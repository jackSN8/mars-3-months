{
 "cells": [
  {
   "cell_type": "code",
   "execution_count": 1,
   "metadata": {},
   "outputs": [
    {
     "name": "stderr",
     "output_type": "stream",
     "text": [
      "c:\\Users\\jacki\\miniforge-pypy3\\envs\\python_3.9\\lib\\site-packages\\poliastro\\core\\_jit.py:29: UserWarning: Could not import numba package. All poliastro functions will work properly but the CPU intensive algorithms will be slow. Consider installing numba to boost performance.\n",
      "  warnings.warn(\n"
     ]
    }
   ],
   "source": [
    "\n",
    "\n",
    "from astropy import units as u\n",
    "from astropy import time\n",
    "\n",
    "import numpy as np\n",
    "\n",
    "from poliastro import iod\n",
    "from poliastro.bodies import Mars, Earth, Jupiter, Sun\n",
    "from poliastro.ephem import Ephem\n",
    "from poliastro.maneuver import Maneuver\n",
    "from poliastro.twobody import Orbit\n",
    "from poliastro.util import time_range\n",
    "from poliastro.plotting import OrbitPlotter3D, StaticOrbitPlotter\n",
    "import math\n",
    "import matplotlib.pyplot as plt\n",
    "# More info: https://plotly.com/python/renderers/\n",
    "import plotly.io as pio\n",
    "\n",
    "pio.renderers.default = \"plotly_mimetype+notebook_connected\"\n",
    "\n",
    "from astropy.coordinates import solar_system_ephemeris\n",
    "\n",
    "\n",
    "solar_system_ephemeris.set(\"jpl\")\n",
    "\n",
    "import matplotlib.pyplot as plt\n",
    "import matplotlib.colors as colors\n",
    "import matplotlib.dates as mdates"
   ]
  },
  {
   "cell_type": "code",
   "execution_count": 3,
   "metadata": {},
   "outputs": [
    {
     "ename": "NameError",
     "evalue": "name 'rows' is not defined",
     "output_type": "error",
     "traceback": [
      "\u001b[1;31m---------------------------------------------------------------------------\u001b[0m",
      "\u001b[1;31mNameError\u001b[0m                                 Traceback (most recent call last)",
      "Cell \u001b[1;32mIn[3], line 22\u001b[0m\n\u001b[0;32m     19\u001b[0m ephem_2 \u001b[38;5;241m=\u001b[39m Ephem\u001b[38;5;241m.\u001b[39mfrom_body(body_2, time_range(start_date, end\u001b[38;5;241m=\u001b[39mend_date\u001b[38;5;241m+\u001b[39mmax_tof))\n\u001b[0;32m     21\u001b[0m delta_time \u001b[38;5;241m=\u001b[39m end_date\u001b[38;5;241m-\u001b[39mstart_date\n\u001b[1;32m---> 22\u001b[0m dv_array \u001b[38;5;241m=\u001b[39m np\u001b[38;5;241m.\u001b[39mempty((\u001b[43mrows\u001b[49m, cols), dtype\u001b[38;5;241m=\u001b[39m\u001b[38;5;28mobject\u001b[39m)\n\u001b[0;32m     24\u001b[0m \u001b[38;5;28;01mfor\u001b[39;00m i \u001b[38;5;129;01min\u001b[39;00m \u001b[38;5;28mrange\u001b[39m(\u001b[38;5;28mint\u001b[39m((delta_time\u001b[38;5;241m/\u001b[39mtime_resolution)\u001b[38;5;241m.\u001b[39mvalue)):\n\u001b[0;32m     25\u001b[0m     \u001b[38;5;66;03m#print(\"jeff\")\u001b[39;00m\n\u001b[0;32m     26\u001b[0m     \u001b[38;5;28;01mfor\u001b[39;00m j \u001b[38;5;129;01min\u001b[39;00m \u001b[38;5;28mrange\u001b[39m(\u001b[38;5;241m1\u001b[39m,\u001b[38;5;28mint\u001b[39m((max_tof\u001b[38;5;241m/\u001b[39mtof_resolution)\u001b[38;5;241m.\u001b[39mvalue)):\n",
      "\u001b[1;31mNameError\u001b[0m: name 'rows' is not defined"
     ]
    }
   ],
   "source": [
    "#Porkchop plot v2\n",
    "#Brute force lambert solve for 5 day intervals (thus 5/~3000 = 600 timesteps, for up to 1 year (?) thus 40000 lambert solves)\n",
    "tof_resolution = 5*u.day\n",
    "max_tof = 365*u.day\n",
    "\n",
    "time_resolution = 5*u.day\n",
    "start_date = time.Time(\"2030-01-01 00:01\", scale=\"utc\").tdb\n",
    "end_date = time.Time(\"2032-12-31 23:59\", scale=\"utc\").tdb\n",
    "\n",
    "#end_date = time.Time(\"2039-12-31 23:59\", scale=\"utc\").tdb\n",
    "\n",
    "\n",
    "#Body_1 to Body_2 on top, other on bottom\n",
    "body_1 = Earth\n",
    "body_2 = Mars\n",
    "\n",
    "\n",
    "ephem_1 = Ephem.from_body(body_1, time_range(start_date, end=end_date+max_tof))\n",
    "ephem_2 = Ephem.from_body(body_2, time_range(start_date, end=end_date+max_tof))\n",
    "\n",
    "delta_time = end_date-start_date\n",
    "dv_array = np.empty((rows, cols), dtype=object)\n",
    "\n",
    "for i in range(int((delta_time/time_resolution).value)):\n",
    "    #print(\"jeff\")\n",
    "    for j in range(1,int((max_tof/tof_resolution).value)):\n",
    "        t_launch = start_date+i*time_resolution\n",
    "        t_arrival = start_date+i*time_resolution+j*tof_resolution\n",
    "        ss_planet_1 = Orbit.from_ephem(Sun, ephem_1, t_launch)\n",
    "        ss_planet_2 = Orbit.from_ephem(Sun, ephem_2, t_arrival)\n",
    "        # print(t_launch)\n",
    "        # print(t_arrival)\n",
    "        # Solve for the transfer maneuver\n",
    "        man_lambert = Maneuver.lambert(ss_planet_1, ss_planet_2)\n",
    "        ejection = man_lambert[0]\n",
    "        dv = np.linalg.norm(ejection[1].value)\n",
    "\n",
    "#convergance time needs to be better for website - ~40 seconds/yr\n",
    "#perhaps can pre-compute plots for major planets\n",
    "\n"
   ]
  },
  {
   "cell_type": "code",
   "execution_count": null,
   "metadata": {},
   "outputs": [],
   "source": [
    "#plotting\n",
    "# Convert Astropy Time to Matplotlib dates\n",
    "plt_start_date = mdates.date2num(start_date)\n",
    "plt_end_date = mdates.date2num(end_date)\n",
    "\n",
    "\n",
    "# Convert to a float and replace None with 0 (or another default value) cause non solutions go null in that array\n",
    "clean_data = np.nan_to_num(dv_array.astype(float)).transpose()\n",
    "\n",
    "\n",
    "num_dates = 5\n",
    "dates = np.linspace(start_date, end_date, num_dates)\n",
    "date_labels = [mdates.num2date(date).strftime('%Y-%m-%d') for date in dates]\n",
    "date_ticks = np.linspace(0, clean_data.shape[1] - 1, num_dates)\n",
    "y_ticks = np.linspace(0, clean_data.shape[0] - 1, 5)  # 4 quarters + start of the year\n",
    "y_labels = ['0 Yr', '0.25 Yr', '0.5 Yr', '0.75 Yr', '1 Yr']\n",
    "\n",
    "\n",
    "\n",
    "# Define a custom colormap from blue to red for the porkchop plot\n",
    "#TBA proper coloring scheme!\n",
    "#\n",
    "cmap = colors.LinearSegmentedColormap.from_list(\"red_to_blue\", [\"red\", \"blue\"])\n",
    "\n",
    "\n",
    "# Create the plot\n",
    "#print(dv_array[20,30])\n",
    "plt.imshow(clean_data, cmap=cmap, aspect='auto', vmin=0, vmax=20000,origin = 'lower')\n",
    "# Set the x-ticks to correspond to the dates\n",
    "plt.xticks(ticks=date_ticks, labels=date_labels, rotation=45)\n",
    "plt.yticks(ticks=y_ticks, labels=y_labels)\n",
    "\n",
    "print(dv_array[60][13])\n",
    "print(date_array[60][13])\n",
    "\n",
    "\n",
    "# Add a colorbar to show the mapping from data values to colors\n",
    "plt.colorbar()\n",
    "\n",
    "# Show the plot\n",
    "plt.show()\n",
    "\n",
    "\n",
    "\n"
   ]
  },
  {
   "cell_type": "code",
   "execution_count": null,
   "metadata": {},
   "outputs": [],
   "source": []
  }
 ],
 "metadata": {
  "kernelspec": {
   "display_name": "python_3.9",
   "language": "python",
   "name": "python3"
  },
  "language_info": {
   "codemirror_mode": {
    "name": "ipython",
    "version": 3
   },
   "file_extension": ".py",
   "mimetype": "text/x-python",
   "name": "python",
   "nbconvert_exporter": "python",
   "pygments_lexer": "ipython3",
   "version": "3.9.21"
  }
 },
 "nbformat": 4,
 "nbformat_minor": 2
}
