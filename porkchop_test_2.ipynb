{
 "cells": [
  {
   "cell_type": "code",
   "execution_count": 2,
   "metadata": {},
   "outputs": [
    {
     "name": "stderr",
     "output_type": "stream",
     "text": [
      "c:\\Users\\jacki\\miniforge-pypy3\\envs\\python_3.9\\lib\\site-packages\\poliastro\\core\\_jit.py:29: UserWarning: Could not import numba package. All poliastro functions will work properly but the CPU intensive algorithms will be slow. Consider installing numba to boost performance.\n",
      "  warnings.warn(\n"
     ]
    },
    {
     "data": {
      "text/plain": [
       "<ScienceState solar_system_ephemeris: 'jpl'>"
      ]
     },
     "execution_count": 2,
     "metadata": {},
     "output_type": "execute_result"
    }
   ],
   "source": [
    "\n",
    "\n",
    "from astropy import units as u\n",
    "from astropy import time\n",
    "\n",
    "import numpy as np\n",
    "\n",
    "from poliastro import iod\n",
    "from poliastro.bodies import Mars, Earth, Jupiter, Sun\n",
    "from poliastro.ephem import Ephem\n",
    "from poliastro.maneuver import Maneuver\n",
    "from poliastro.twobody import Orbit\n",
    "from poliastro.util import time_range\n",
    "from poliastro.plotting import OrbitPlotter3D, StaticOrbitPlotter\n",
    "import math\n",
    "import matplotlib.pyplot as plt\n",
    "# More info: https://plotly.com/python/renderers/\n",
    "import plotly.io as pio\n",
    "\n",
    "pio.renderers.default = \"plotly_mimetype+notebook_connected\"\n",
    "\n",
    "from astropy.coordinates import solar_system_ephemeris\n",
    "\n",
    "\n",
    "solar_system_ephemeris.set(\"jpl\")\n"
   ]
  },
  {
   "cell_type": "code",
   "execution_count": 18,
   "metadata": {},
   "outputs": [
    {
     "name": "stderr",
     "output_type": "stream",
     "text": [
      "c:\\Users\\jacki\\miniforge-pypy3\\envs\\python_3.9\\lib\\site-packages\\erfa\\core.py:133: ErfaWarning:\n",
      "\n",
      "ERFA function \"dtf2d\" yielded 1 of \"dubious year (Note 6)\"\n",
      "\n",
      "c:\\Users\\jacki\\miniforge-pypy3\\envs\\python_3.9\\lib\\site-packages\\erfa\\core.py:133: ErfaWarning:\n",
      "\n",
      "ERFA function \"utctai\" yielded 1 of \"dubious year (Note 3)\"\n",
      "\n",
      "c:\\Users\\jacki\\miniforge-pypy3\\envs\\python_3.9\\lib\\site-packages\\erfa\\core.py:133: ErfaWarning:\n",
      "\n",
      "ERFA function \"taiutc\" yielded 1 of \"dubious year (Note 4)\"\n",
      "\n"
     ]
    }
   ],
   "source": [
    "#Porkchop plot v2\n",
    "#Brute force lambert solve for 5 day intervals (thus 5/~3000 = 600 timesteps, for up to 1 year (?) thus 40000 lambert solves)\n",
    "tof_resolution = 5*u.day\n",
    "max_tof = 365*u.day\n",
    "\n",
    "time_resolution = 5*u.day\n",
    "start_date = time.Time(\"2030-01-01 00:01\", scale=\"utc\").tdb\n",
    "end_date = time.Time(\"2032-12-31 23:59\", scale=\"utc\").tdb\n",
    "\n",
    "end_date = time.Time(\"2039-12-31 23:59\", scale=\"utc\").tdb\n",
    "\n",
    "\n",
    "#Body_1 to Body_2 on top, other on bottom\n",
    "body_1 = Earth\n",
    "body_2 = Mars\n",
    "\n",
    "\n",
    "ephem_1 = Ephem.from_body(body_1, time_range(start_date, end=end_date+max_tof))\n",
    "ephem_2 = Ephem.from_body(body_2, time_range(start_date, end=end_date+max_tof))\n",
    "\n",
    "delta_time = end_date-start_date\n",
    "\n",
    "for i in range(int((delta_time/time_resolution).value)):\n",
    "    #print(\"jeff\")\n",
    "    for j in range(1,int((max_tof/tof_resolution).value)):\n",
    "        t_launch = start_date+i*time_resolution\n",
    "        t_arrival = start_date+i*time_resolution+j*tof_resolution\n",
    "        ss_planet_1 = Orbit.from_ephem(Sun, ephem_1, t_launch)\n",
    "        ss_planet_2 = Orbit.from_ephem(Sun, ephem_2, t_arrival)\n",
    "        # print(t_launch)\n",
    "        # print(t_arrival)\n",
    "        # Solve for the transfer maneuver\n",
    "        man_lambert = Maneuver.lambert(ss_planet_1, ss_planet_2)\n",
    "        ejection = man_lambert[0]\n",
    "        dv = np.linalg.norm(ejection[1].value)\n",
    "\n"
   ]
  },
  {
   "cell_type": "code",
   "execution_count": null,
   "metadata": {},
   "outputs": [],
   "source": []
  }
 ],
 "metadata": {
  "kernelspec": {
   "display_name": "python_3.9",
   "language": "python",
   "name": "python3"
  },
  "language_info": {
   "codemirror_mode": {
    "name": "ipython",
    "version": 3
   },
   "file_extension": ".py",
   "mimetype": "text/x-python",
   "name": "python",
   "nbconvert_exporter": "python",
   "pygments_lexer": "ipython3",
   "version": "3.9.21"
  }
 },
 "nbformat": 4,
 "nbformat_minor": 2
}
