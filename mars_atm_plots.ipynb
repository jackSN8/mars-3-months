{
 "cells": [
  {
   "cell_type": "code",
   "execution_count": 12,
   "metadata": {},
   "outputs": [
    {
     "ename": "ImportError",
     "evalue": "cannot import name 'MartianAtmosphere' from 'mars_atm' (c:\\Users\\jacki\\Documents\\GitHub\\mars-3-months\\mars_atm.py)",
     "output_type": "error",
     "traceback": [
      "\u001b[1;31m---------------------------------------------------------------------------\u001b[0m",
      "\u001b[1;31mImportError\u001b[0m                               Traceback (most recent call last)",
      "Cell \u001b[1;32mIn[12], line 31\u001b[0m\n\u001b[0;32m     29\u001b[0m \u001b[38;5;28;01mfrom\u001b[39;00m \u001b[38;5;21;01mscipy\u001b[39;00m\u001b[38;5;21;01m.\u001b[39;00m\u001b[38;5;21;01mndimage\u001b[39;00m \u001b[38;5;28;01mimport\u001b[39;00m rotate\n\u001b[0;32m     30\u001b[0m \u001b[38;5;28;01mfrom\u001b[39;00m \u001b[38;5;21;01mscipy\u001b[39;00m\u001b[38;5;21;01m.\u001b[39;00m\u001b[38;5;21;01mspatial\u001b[39;00m\u001b[38;5;21;01m.\u001b[39;00m\u001b[38;5;21;01mtransform\u001b[39;00m \u001b[38;5;28;01mimport\u001b[39;00m Rotation \u001b[38;5;28;01mas\u001b[39;00m R\n\u001b[1;32m---> 31\u001b[0m \u001b[38;5;28;01mfrom\u001b[39;00m \u001b[38;5;21;01mmars_atm\u001b[39;00m \u001b[38;5;28;01mimport\u001b[39;00m MartianAtmosphere\n",
      "\u001b[1;31mImportError\u001b[0m: cannot import name 'MartianAtmosphere' from 'mars_atm' (c:\\Users\\jacki\\Documents\\GitHub\\mars-3-months\\mars_atm.py)"
     ]
    }
   ],
   "source": [
    "import numpy as np\n",
    "from astropy import units as u\n",
    "from astropy import time\n",
    "from astropy import coordinates as c\n",
    "\n",
    "from poliastro.bodies import Earth\n",
    "from poliastro.twobody import Orbit\n",
    "from poliastro.twobody.propagation import propagate\n",
    "from poliastro.examples import iss\n",
    "import matplotlib.pyplot as plt\n",
    "from poliastro import iod\n",
    "from poliastro.bodies import Earth, Mars, Sun\n",
    "from poliastro.ephem import Ephem\n",
    "from poliastro.maneuver import Maneuver\n",
    "from poliastro.twobody import Orbit\n",
    "from poliastro.util import time_range\n",
    "from poliastro.plotting import OrbitPlotter3D, StaticOrbitPlotter\n",
    "#from poliastro.earth.atmosphere import COESA76\n",
    "from poliastro.twobody.propagation import cowell\n",
    "from poliastro.plotting import OrbitPlotter3D\n",
    "from poliastro.util import norm\n",
    "import plotly.io as pio\n",
    "pio.renderers.default = \"notebook_connected\"\n",
    "from poliastro.twobody.events import LithobrakeEvent\n",
    "from astropy.coordinates import SphericalRepresentation\n",
    "import math as Math\n",
    "from poliastro.twobody import Orbit\n",
    "\n",
    "from scipy.ndimage import rotate\n",
    "from scipy.spatial.transform import Rotation as R\n",
    "from mars_atm import MartianAtmosphere\n"
   ]
  },
  {
   "cell_type": "code",
   "execution_count": 6,
   "metadata": {},
   "outputs": [
    {
     "ename": "AttributeError",
     "evalue": "module 'mars_atm' has no attribute 'MartianAtmosphere'",
     "output_type": "error",
     "traceback": [
      "\u001b[1;31m---------------------------------------------------------------------------\u001b[0m",
      "\u001b[1;31mAttributeError\u001b[0m                            Traceback (most recent call last)",
      "Cell \u001b[1;32mIn[6], line 1\u001b[0m\n\u001b[1;32m----> 1\u001b[0m atmosphere \u001b[38;5;241m=\u001b[39m \u001b[43mmars_atm\u001b[49m\u001b[38;5;241;43m.\u001b[39;49m\u001b[43mMartianAtmosphere\u001b[49m()\n",
      "\u001b[1;31mAttributeError\u001b[0m: module 'mars_atm' has no attribute 'MartianAtmosphere'"
     ]
    }
   ],
   "source": [
    "atmosphere = MartianAtmosphere()\n",
    "\n"
   ]
  }
 ],
 "metadata": {
  "kernelspec": {
   "display_name": "python_3.9",
   "language": "python",
   "name": "python3"
  },
  "language_info": {
   "codemirror_mode": {
    "name": "ipython",
    "version": 3
   },
   "file_extension": ".py",
   "mimetype": "text/x-python",
   "name": "python",
   "nbconvert_exporter": "python",
   "pygments_lexer": "ipython3",
   "version": "3.9.21"
  }
 },
 "nbformat": 4,
 "nbformat_minor": 2
}
