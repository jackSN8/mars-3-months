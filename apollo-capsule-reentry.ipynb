{
 "cells": [
  {
   "cell_type": "code",
   "execution_count": 1,
   "metadata": {},
   "outputs": [
    {
     "name": "stderr",
     "output_type": "stream",
     "text": [
      "c:\\Users\\jacki\\miniforge-pypy3\\envs\\python_3.9\\lib\\site-packages\\poliastro\\core\\_jit.py:29: UserWarning: Could not import numba package. All poliastro functions will work properly but the CPU intensive algorithms will be slow. Consider installing numba to boost performance.\n",
      "  warnings.warn(\n"
     ]
    }
   ],
   "source": [
    "import numpy as np\n",
    "from astropy import units as u\n",
    "from astropy import time\n",
    "from astropy import coordinates as c\n",
    "\n",
    "from poliastro.bodies import Earth\n",
    "from poliastro.twobody import Orbit\n",
    "from poliastro.twobody.propagation import propagate\n",
    "from poliastro.examples import iss\n",
    "import matplotlib.pyplot as plt\n",
    "from poliastro import iod\n",
    "from poliastro.bodies import Earth, Mars, Sun\n",
    "from poliastro.ephem import Ephem\n",
    "from poliastro.maneuver import Maneuver\n",
    "from poliastro.twobody import Orbit\n",
    "from poliastro.util import time_range\n",
    "from poliastro.plotting import OrbitPlotter3D, StaticOrbitPlotter\n",
    "from poliastro.earth.atmosphere import COESA76\n",
    "from poliastro.twobody.propagation import cowell\n",
    "from poliastro.plotting import OrbitPlotter3D\n",
    "from poliastro.util import norm\n",
    "import plotly.io as pio\n",
    "pio.renderers.default = \"notebook_connected\"\n",
    "from poliastro.twobody.events import LithobrakeEvent\n",
    "from astropy.coordinates import SphericalRepresentation\n",
    "import math as Math\n",
    "from poliastro.twobody import Orbit\n"
   ]
  },
  {
   "cell_type": "code",
   "execution_count": 2,
   "metadata": {},
   "outputs": [],
   "source": [
    "# #stupid\n",
    "# def cartesian_spherical(v):\n",
    "#     r = (v[0]**2 + v[1]**2 + v[2]**2)**.5\n",
    "#     theta  = r*"
   ]
  },
  {
   "cell_type": "code",
   "execution_count": null,
   "metadata": {},
   "outputs": [],
   "source": []
  },
  {
   "cell_type": "code",
   "execution_count": 3,
   "metadata": {},
   "outputs": [
    {
     "name": "stdout",
     "output_type": "stream",
     "text": [
      "Expected velocity at periapsis is 11.119019771317944 km / s\n",
      "deorbit dv is -85m/s\n",
      "6345 x 6628 km x 0.0 deg (GCRS) orbit around Earth (♁) at epoch J2000.000 (TT)\n",
      "Initial apogee of 249.9999999999991 km\n",
      "Initial perigee of -32.8420251479256 km\n",
      "Entry interface at 1259.4022272480854 seconds\n",
      "Lithobrake event seen at 1600.973055678735 seconds\n"
     ]
    }
   ],
   "source": [
    "accel = 5e-5\n",
    "\n",
    "#apollo CM atmospheric coefficients\n",
    "c_d = 1.55 \n",
    "a_m = (Math.pi*(1.95)**2)/5560 #area over mass\n",
    "\n",
    "#Earth has an atmosphere and some gravity\n",
    "atmosphere = COESA76()\n",
    "mu = Earth.k.to(u.km**3/u.s**2).value\n",
    "\n",
    "#ignore\n",
    "density = 0\n",
    "\n",
    "orbit = Orbit.circular(Earth,alt=250*u.km)\n",
    "orb_fin = orbit\n",
    "\n",
    "#deorbit dv calculations that dont work ignore\n",
    "intended_perigee = 70*u.km\n",
    "sma_final = (orbit.r_a+intended_perigee+Earth.R)/2\n",
    "#calculate expected velocity at pea\n",
    "v_perigee = np.sqrt(mu*(2.0/(intended_perigee+Earth.R)) - 1.0/sma_final).value*u.km/u.s\n",
    "#calculate expected velocity at apo\n",
    "v_apo = np.sqrt(mu*(2.0/(orbit.a)) - 1.0/sma_final).value*u.km/u.s\n",
    "\n",
    "print(f\"Expected velocity at periapsis is {v_perigee}\")\n",
    "\n",
    "\n",
    "\n",
    "#deorbit_dv = (v_apo - np.linalg.norm(orbit.v)).value\n",
    "deorbit_dv = -85 #971 from 250000 leads to 30k, 973 leads to -40k\n",
    "print(f\"deorbit dv is {deorbit_dv}m/s\")\n",
    "\n",
    "\n",
    "ov1 = orbit.v\n",
    "prograde_norm= ((orbit.v.value*u.km/u.s)/((ov1[0]**2 + ov1[1]**2 + ov1[2]**2)**.5).value)\n",
    "man = Maneuver((0 * u.s, deorbit_dv*10e-4*prograde_norm))\n",
    "orbit = orbit.apply_maneuver(man)\n",
    "print(orbit)\n",
    "print(f\"Initial apogee of {orbit.r_a-Earth.R}\")\n",
    "print(f\"Initial perigee of {orbit.r_p-Earth.R}\")\n",
    "\n",
    "\n",
    "prop_total = 500\n",
    "reentry_vel = []\n",
    "reentry_time = []\n",
    "reentry_alts = []\n",
    "entry_interface = 0\n",
    "\n",
    "\n",
    "\n",
    "def constant_accel_factory(accel):\n",
    "    def constant_accel(t0, state, k):\n",
    "        v = state[3:]\n",
    "        square_v = (v[0]**2 + v[1]**2 + v[2]**2) #km^2/s^2\n",
    "        norm_v = square_v**.5\n",
    "        p = state[:3]\n",
    "        alt = 10e-4*(np.linalg.norm(state)*10e2-Earth.R.value)*u.km#alt in km, not sure what these dumbass 1/10th of a metre units are\n",
    "\n",
    "        global orb_fin\n",
    "        global entry_interface\n",
    "        global reentry_vel\n",
    "        global reentry_time\n",
    "        global reentry_alts\n",
    "\n",
    "        if alt<999*u.km:\n",
    "            density = 0*u.kg/(u.m**3)\n",
    "            if(alt>0):\n",
    "                density = atmosphere.properties(alt)[2]#kg/m^3\n",
    "\n",
    "            #f_d = 0.5*rho*v^2*C_d*a\n",
    "            # print(f\"density at {alt} is {density}\")\n",
    "            # print(square_v)\n",
    "            #square_v is km^2/s^2 so convert to m^2/s^2, and then convert final acceleration from m/s^2 to km/s^2\n",
    "            acc = 0.5*density.value*square_v*10e6*c_d*a_m * v * 10e-3 / (norm_v )# km/s^2\n",
    "            #0.5*10e-11*10e7\n",
    "            orb_fin = Orbit.from_vectors(Earth, p*u.km, v*u.km/u.s)\n",
    "            if alt <120*u.km and entry_interface == 0:\n",
    "                entry_interface = t0\n",
    "            if alt <120*u.km:\n",
    "                reentry_vel.append(norm_v)\n",
    "                reentry_time.append(t0)\n",
    "                reentry_alts.append(alt.value)\n",
    "\n",
    "\n",
    "            #print(acc)\n",
    "            return acc* v / norm_v\n",
    "        else:\n",
    "            return 0*v\n",
    "\n",
    "    return constant_accel\n",
    "\n",
    "\n",
    "\n",
    "lithobrake_event = LithobrakeEvent(Earth.R.to(u.km).value)\n",
    "events = [lithobrake_event]  \n",
    "\n",
    "prop_time = 1 * orbit.period\n",
    "times = np.linspace(0, prop_time, prop_total)\n",
    "times\n",
    "positions = propagate(\n",
    "    orbit,\n",
    "    time.TimeDelta(times),\n",
    "    method=cowell,\n",
    "    rtol=1e-10,\n",
    "    ad=constant_accel_factory(accel),\n",
    "    events = events\n",
    ")\n",
    "impact_time = 0\n",
    "if entry_interface >0:\n",
    "    print(f\"Entry interface at {entry_interface} seconds\")\n",
    "if lithobrake_event.last_t.to(u.s)< prop_time:\n",
    "    impact_time = lithobrake_event.last_t.to(u.s)\n",
    "    print(f\"Lithobrake event seen at {lithobrake_event.last_t.to(u.s).value} seconds\")\n",
    "\n",
    "\n",
    "\n",
    "\n",
    "\n",
    "\n",
    "# tofs = time.TimeDelta(np.linspace(0 * u.h, positions.norm().value.size*u.h, num=prop_total))\n",
    "tofs = np.linspace(0 * u.s, prop_time.to(u.s), num=prop_total)\n",
    "#pos_spherical = c.cartesian_to_spherical(positions[:][0],positions[:][1],positions[:][2])\n",
    "pos_spherical = positions.represent_as(SphericalRepresentation)\n",
    "\n",
    "#this dumbness only ~works cause oribt is equatorial\n",
    "#acutlaly it doesnt quite work, final distance is correct, but only bc it loops (physically over the equator ) over itself ~ many times if multiple apogees exist\n",
    "\n",
    "#downrange_distance = (pos_spherical[positions.size-1].lon-pos_spherical[0].lon).value*Earth.R.to(u.km)\n",
    "#print(f\"final distance is {downrange_distance}\")\n",
    "\n",
    "#downrange = np.linspace(0*u.km,downrange_distance,prop_total)\n",
    "\n",
    "\n",
    "\n",
    "\n",
    "\n",
    "\n"
   ]
  },
  {
   "cell_type": "code",
   "execution_count": 4,
   "metadata": {},
   "outputs": [
    {
     "name": "stdout",
     "output_type": "stream",
     "text": [
      "<class 'astropy.coordinates.representation.CartesianRepresentation'>\n"
     ]
    }
   ],
   "source": [
    "print(type(positions))"
   ]
  },
  {
   "cell_type": "code",
   "execution_count": 7,
   "metadata": {},
   "outputs": [
    {
     "name": "stdout",
     "output_type": "stream",
     "text": [
      "Final apogee of -12725.036191076673 km\n",
      "Final perigee of -31.934910753423537 km\n"
     ]
    },
    {
     "data": {
      "text/plain": [
       "[<matplotlib.lines.Line2D at 0x18a1cb4af10>]"
      ]
     },
     "execution_count": 7,
     "metadata": {},
     "output_type": "execute_result"
    },
    {
     "data": {
      "image/png": "[encoded data removed]",
      "text/plain": [
       "<Figure size 640x480 with 1 Axes>"
      ]
     },
     "metadata": {},
     "output_type": "display_data"
    }
   ],
   "source": [
    "print(f\"Final apogee of {orb_fin.r_a-Earth.R}\")\n",
    "print(f\"Final perigee of {orb_fin.r_p-Earth.R}\")\n",
    "plt.ylabel(\"h/km\")\n",
    "# plt.xlabel(\"distance downrange, km\")\n",
    "plt.xlabel(\"time/s\")\n",
    "plt.xlim(1259,1600)\n",
    "plt.ylim(top = 120)\n",
    "plt.plot(tofs, pos_spherical.distance - Earth.R)"
   ]
  },
  {
   "cell_type": "code",
   "execution_count": 6,
   "metadata": {},
   "outputs": [
    {
     "name": "stdout",
     "output_type": "stream",
     "text": [
      "Entry interface at 1259.4022272480854 seconds\n",
      "Lithobrake event seen at 1600.973055678735 seconds\n"
     ]
    },
    {
     "data": {
      "text/plain": [
       "[<matplotlib.lines.Line2D at 0x18a1cadc220>]"
      ]
     },
     "execution_count": 6,
     "metadata": {},
     "output_type": "execute_result"
    },
    {
     "data": {
      "image/png": "[encoded data removed]",
      "text/plain": [
       "<Figure size 1000x400 with 2 Axes>"
      ]
     },
     "metadata": {},
     "output_type": "display_data"
    }
   ],
   "source": [
    "\n",
    "impact_time = 0\n",
    "if entry_interface >0:\n",
    "    print(f\"Entry interface at {entry_interface} seconds\")\n",
    "if lithobrake_event.last_t.to(u.s)< prop_time:\n",
    "    impact_time = lithobrake_event.last_t.to(u.s)\n",
    "    print(f\"Lithobrake event seen at {lithobrake_event.last_t.to(u.s).value} seconds\")\n",
    "\n",
    "\n",
    "fig, (ax1, ax2) = plt.subplots(1, 2, figsize=(10, 4))\n",
    "\n",
    "\n",
    "ax1.set_ylabel(\"h/km\")\n",
    "# plt.xlabel(\"distance downrange, km\")\n",
    "ax1.set_xlabel(\"time/s\")\n",
    "#plt.xlim(12500,14000)\n",
    "#plt.ylim(top = 100)\n",
    "#print(reentry_alts)\n",
    "plt.ylim(150)\n",
    "ax1.plot(np.array(reentry_time),np.array(reentry_alts))\n",
    "#drag 0.47813373175961593 hours\n",
    "#none 0.4863379477979069 hours\n",
    "#print(np.array(reentry_vel)[15])\n",
    "plt.ylim(15)\n",
    "ax2.set_xlabel(\"time/s\")\n",
    "ax2.set_ylabel(\"Speed/(km/s)\")\n",
    "ax2.plot(np.array(reentry_time),np.array(reentry_vel))"
   ]
  },
  {
   "cell_type": "code",
   "execution_count": null,
   "metadata": {},
   "outputs": [],
   "source": []
  }
 ],
 "metadata": {
  "kernelspec": {
   "display_name": "python_3.9",
   "language": "python",
   "name": "python3"
  },
  "language_info": {
   "codemirror_mode": {
    "name": "ipython",
    "version": 3
   },
   "file_extension": ".py",
   "mimetype": "text/x-python",
   "name": "python",
   "nbconvert_exporter": "python",
   "pygments_lexer": "ipython3",
   "version": "3.9.21"
  }
 },
 "nbformat": 4,
 "nbformat_minor": 2
}
