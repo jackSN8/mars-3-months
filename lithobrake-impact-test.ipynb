{
 "cells": [
  {
   "cell_type": "code",
   "execution_count": 59,
   "metadata": {},
   "outputs": [],
   "source": [
    "import numpy as np\n",
    "from astropy import units as u\n",
    "from astropy import time\n",
    "from astropy import coordinates as c\n",
    "\n",
    "from poliastro.bodies import Earth\n",
    "from poliastro.twobody import Orbit\n",
    "from poliastro.twobody.propagation import propagate\n",
    "from poliastro.examples import iss\n",
    "import matplotlib.pyplot as plt\n",
    "from poliastro import iod\n",
    "from poliastro.bodies import Earth, Mars, Sun\n",
    "from poliastro.ephem import Ephem\n",
    "from poliastro.maneuver import Maneuver\n",
    "from poliastro.twobody import Orbit\n",
    "from poliastro.util import time_range\n",
    "from poliastro.plotting import OrbitPlotter3D, StaticOrbitPlotter\n",
    "from poliastro.earth.atmosphere import COESA76\n",
    "from poliastro.twobody.propagation import cowell\n",
    "from poliastro.plotting import OrbitPlotter3D\n",
    "from poliastro.util import norm\n",
    "import plotly.io as pio\n",
    "pio.renderers.default = \"notebook_connected\"\n",
    "from poliastro.twobody.events import LithobrakeEvent\n",
    "from astropy.coordinates import SphericalRepresentation\n",
    "import math as Math\n",
    "from poliastro.twobody import Orbit\n"
   ]
  },
  {
   "cell_type": "code",
   "execution_count": 60,
   "metadata": {},
   "outputs": [],
   "source": [
    "# #stupid\n",
    "# def cartesian_spherical(v):\n",
    "#     r = (v[0]**2 + v[1]**2 + v[2]**2)**.5\n",
    "#     theta  = r*"
   ]
  },
  {
   "cell_type": "code",
   "execution_count": null,
   "metadata": {},
   "outputs": [
    {
     "name": "stdout",
     "output_type": "stream",
     "text": [
      "6474 x 31378 km x 0.0 deg (GCRS) orbit around Earth (♁) at epoch J2000.000 (TT)\n",
      "Initial apogee of 24999.999999999993 km\n",
      "Initial perigee of 95.85363939914623 km\n",
      "Lithobrake event seen at 19459.126342837553 seconds\n",
      "Final apogee of -6951.563148623773 km\n",
      "Final perigee of -5805.550118750645 km\n"
     ]
    },
    {
     "data": {
      "text/plain": [
       "[<matplotlib.lines.Line2D at 0x27f8bd5ca30>]"
      ]
     },
     "execution_count": 178,
     "metadata": {},
     "output_type": "execute_result"
    },
    {
     "data": {
      "image/png": "[encoded data removed]",
      "text/plain": [
       "<Figure size 640x480 with 1 Axes>"
      ]
     },
     "metadata": {},
     "output_type": "display_data"
    }
   ],
   "source": [
    "accel = 5e-5\n",
    "\n",
    "#apollo atmospheric coefficients\n",
    "c_d = 1.55\n",
    "a_m = (Math.pi*(1.95)**2)/5560\n",
    "\n",
    "atmosphere = COESA76()\n",
    "density = 0\n",
    "\n",
    "orbit = Orbit.circular(Earth,alt=25000*u.km)\n",
    "orb_fin = orbit\n",
    "deorbit_dv = -1479.6#m/s\n",
    "ov1 = orbit.v\n",
    "prograde_norm= ((orbit.v.value*u.km/u.s)/((ov1[0]**2 + ov1[1]**2 + ov1[2]**2)**.5).value)\n",
    "man = Maneuver((0 * u.s, deorbit_dv*10e-4*prograde_norm))\n",
    "orbit = orbit.apply_maneuver(man)\n",
    "print(orbit)\n",
    "print(f\"Initial apogee of {orbit.r_a-Earth.R}\")\n",
    "print(f\"Initial perigee of {orbit.r_p-Earth.R}\")\n",
    "\n",
    "\n",
    "def constant_accel_factory(accel):\n",
    "    def constant_accel(t0, state, k):\n",
    "        v = state[3:]\n",
    "        square_v = (v[0]**2 + v[1]**2 + v[2]**2) #km^2/s^2\n",
    "        norm_v = square_v**.5\n",
    "        p = state[:3]\n",
    "        alt = 10e-4*(np.linalg.norm(state)*10e2-Earth.R.value)*u.km#alt in km, not sure what these dumbass 1/10th of a metre units are\n",
    "\n",
    "        global orb_fin\n",
    "\n",
    "        if alt<999*u.km:\n",
    "            density = 0*u.kg/(u.m**3)\n",
    "            if(alt>0):\n",
    "                density = atmosphere.properties(alt)[2]#kg/m^3\n",
    "\n",
    "            #f_d = 0.5*rho*v^2*C_d*a\n",
    "            print(f\"density at {alt} is {density}\")\n",
    "\n",
    "            #square_v is km^2/s^2 so convert to m^2/s^2, and then convert final acceleration from m/s^2 to km/s^2\n",
    "            acc = 0.5*density.value*square_v*10e6*c_d*a_m * v * 10e-3 / (norm_v )# km/s^2\n",
    "            #0.5*10e-11*10e7\n",
    "            orb_fin = Orbit.from_vectors(Earth, p*u.km, v*u.km/u.s)\n",
    "\n",
    "            #print(acc)\n",
    "            return acc* v / norm_v\n",
    "        else:\n",
    "            return 0*v\n",
    "\n",
    "    return constant_accel\n",
    "\n",
    "\n",
    "\n",
    "lithobrake_event = LithobrakeEvent(Earth.R.to(u.km).value)\n",
    "events = [lithobrake_event]  \n",
    "\n",
    "prop_total = 500\n",
    "prop_time = 1 * orbit.period\n",
    "times = np.linspace(0, prop_time, prop_total)\n",
    "times\n",
    "positions = propagate(\n",
    "    orbit,\n",
    "    time.TimeDelta(times),\n",
    "    method=cowell,\n",
    "    rtol=1e-10,\n",
    "    ad=constant_accel_factory(accel),\n",
    "    events = events\n",
    ")\n",
    "if lithobrake_event.last_t.to(u.s)< prop_time:\n",
    "    print(f\"Lithobrake event seen at {lithobrake_event.last_t.to(u.s).value} seconds\")\n",
    "\n",
    "\n",
    "\n",
    "\n",
    "\n",
    "\n",
    "# tofs = time.TimeDelta(np.linspace(0 * u.h, positions.norm().value.size*u.h, num=prop_total))\n",
    "tofs = np.linspace(0 * u.s, prop_time.to(u.s), num=prop_total)\n",
    "#pos_spherical = c.cartesian_to_spherical(positions[:][0],positions[:][1],positions[:][2])\n",
    "pos_spherical = positions.represent_as(SphericalRepresentation)\n",
    "\n",
    "#this dumbness only ~works cause oribt is equatorial\n",
    "#acutlaly it doesnt quite work, final distance is correct, but only bc it loops (physically over the equator ) over itself ~ many times if multiple apogees exist\n",
    "\n",
    "#downrange_distance = (pos_spherical[positions.size-1].lon-pos_spherical[0].lon).value*Earth.R.to(u.km)\n",
    "#print(f\"final distance is {downrange_distance}\")\n",
    "\n",
    "#downrange = np.linspace(0*u.km,downrange_distance,prop_total)\n",
    "\n",
    "\n",
    "\n",
    "\n",
    "print(f\"Final apogee of {orb_fin.r_a-Earth.R}\")\n",
    "print(f\"Final perigee of {orb_fin.r_p-Earth.R}\")\n",
    "\n",
    "plt.ylabel(\"h/km\")\n",
    "# plt.xlabel(\"distance downrange, km\")\n",
    "plt.xlabel(\"time/s\")\n",
    "#plt.xlim(12500,14000)\n",
    "#plt.ylim(top = 100)\n",
    "plt.plot(tofs, pos_spherical.distance - Earth.R)\n",
    "#drag 0.47813373175961593 hours\n",
    "#none 0.4863379477979069 hours\n"
   ]
  },
  {
   "cell_type": "code",
   "execution_count": null,
   "metadata": {},
   "outputs": [],
   "source": []
  }
 ],
 "metadata": {
  "kernelspec": {
   "display_name": "python_3.9",
   "language": "python",
   "name": "python3"
  },
  "language_info": {
   "codemirror_mode": {
    "name": "ipython",
    "version": 3
   },
   "file_extension": ".py",
   "mimetype": "text/x-python",
   "name": "python",
   "nbconvert_exporter": "python",
   "pygments_lexer": "ipython3",
   "version": "3.9.21"
  }
 },
 "nbformat": 4,
 "nbformat_minor": 2
}
