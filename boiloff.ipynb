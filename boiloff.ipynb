{
 "cells": [
  {
   "cell_type": "code",
   "execution_count": null,
   "metadata": {},
   "outputs": [],
   "source": []
  },
  {
   "cell_type": "code",
   "execution_count": 12,
   "metadata": {},
   "outputs": [
    {
     "data": {
      "text/plain": [
       "<ScienceState solar_system_ephemeris: 'jpl'>"
      ]
     },
     "execution_count": 12,
     "metadata": {},
     "output_type": "execute_result"
    }
   ],
   "source": [
    "from astropy import units as u\n",
    "from astropy import time\n",
    "\n",
    "import numpy as np\n",
    "import math as Math\n",
    "from poliastro import iod\n",
    "from poliastro.bodies import Mars, Earth, Sun\n",
    "from poliastro.ephem import Ephem\n",
    "from poliastro.maneuver import Maneuver\n",
    "from poliastro.twobody import Orbit\n",
    "from poliastro.util import time_range\n",
    "from poliastro.plotting import OrbitPlotter3D, StaticOrbitPlotter\n",
    "import math\n",
    "\n",
    "# More info: https://plotly.com/python/renderers/\n",
    "import plotly.io as pio\n",
    "\n",
    "pio.renderers.default = \"plotly_mimetype+notebook_connected\"\n",
    "\n",
    "from astropy.coordinates import solar_system_ephemeris\n",
    "\n",
    "\n",
    "solar_system_ephemeris.set(\"jpl\")"
   ]
  },
  {
   "cell_type": "code",
   "execution_count": 40,
   "metadata": {},
   "outputs": [
    {
     "name": "stderr",
     "output_type": "stream",
     "text": [
      "c:\\Users\\jacki\\miniforge-pypy3\\envs\\python_3.9\\lib\\site-packages\\erfa\\core.py:133: ErfaWarning:\n",
      "\n",
      "ERFA function \"dtf2d\" yielded 1 of \"dubious year (Note 6)\"\n",
      "\n",
      "c:\\Users\\jacki\\miniforge-pypy3\\envs\\python_3.9\\lib\\site-packages\\erfa\\core.py:133: ErfaWarning:\n",
      "\n",
      "ERFA function \"utctai\" yielded 1 of \"dubious year (Note 3)\"\n",
      "\n",
      "c:\\Users\\jacki\\miniforge-pypy3\\envs\\python_3.9\\lib\\site-packages\\erfa\\core.py:133: ErfaWarning:\n",
      "\n",
      "ERFA function \"taiutc\" yielded 1 of \"dubious year (Note 4)\"\n",
      "\n"
     ]
    },
    {
     "name": "stdout",
     "output_type": "stream",
     "text": [
      "208941892.47326568 km\n",
      "power absorbed is 737473788.1539918 kJ\n",
      "Thus can boil 3446.1391969812703 tonnes of LoX\n",
      "Total dosage for one transit is 165.6mSv\n",
      "+-29mSv\n"
     ]
    }
   ],
   "source": [
    "#launch from body_1 to body_2\n",
    "body_1 = Earth\n",
    "body_2 = Mars\n",
    "\n",
    "\n",
    "#solve for a minimum ejection DV given a time period\n",
    "transitTime = 90*u.day\n",
    "resolution = 10*u.day\n",
    "start_date = time.Time(\"2035-07-15 00:01\", scale=\"utc\").tdb\n",
    "end_date = time.Time(\"2035-10-13 00:01\", scale=\"utc\").tdb\n",
    "\n",
    "ephem_1 = Ephem.from_body(body_1, time_range(start_date-transitTime, end=end_date+transitTime))\n",
    "ephem_2 = Ephem.from_body(body_2, time_range(start_date-transitTime, end=end_date+transitTime))\n",
    "\n",
    "\n",
    "ss_planet_1 = Orbit.from_ephem(Sun, ephem_1, start_date)\n",
    "ss_planet_2 = Orbit.from_ephem(Sun, ephem_2, end_date)\n",
    "\n",
    "\n",
    "#interpolate a trajectory that takes transitTime\n",
    "#t in days value\n",
    "def sun_D(t):\n",
    "    return (np.linalg.norm(ss_planet_2.r)-np.linalg.norm(ss_planet_1.r))*Math.sin(Math.pi*t/(180))+1*np.linalg.norm(ss_planet_1.r)\n",
    "\n",
    "print(sun_D(90))\n",
    "\n",
    "\n",
    "#assume 0.6 albedo\n",
    "albedo = 0.6\n",
    "starship_area = 9**2*Math.pi #starship nosecone facing sun only\n",
    "base_flux = 1.381*(sun_D(0)**2)#KWm^2, base_flux/sun_D(0)^2 = 1.381\n",
    "\n",
    "def flux_calc(t):\n",
    "    return base_flux/(sun_D(t)**2)\n",
    "\n",
    "#integrate over the 90 day transit in 0.1 day steps\n",
    "power_ab = 0\n",
    "for i in range(900):\n",
    "    power_ab += (1-albedo)*flux_calc(i/10)*8640*starship_area\n",
    "print(f\"power absorbed is {power_ab} kJ\")\n",
    "#lox latent heat is 214kJ\n",
    "print(f\"Thus can boil {power_ab/(1000*214)} tonnes of LoX\")\n",
    "\n",
    "\n",
    "##332+-23 uGy/day\n",
    "#1.84+-0.33mSv/day\n",
    "rad_day = 1.84\n",
    "error = 0.33\n",
    "print(f\"Total dosage for one transit is {rad_day*transitTime.value}mSv\")\n",
    "print(f\"+-{int(error*transitTime.value)}mSv\")\n",
    "\n"
   ]
  },
  {
   "cell_type": "code",
   "execution_count": null,
   "metadata": {},
   "outputs": [],
   "source": []
  }
 ],
 "metadata": {
  "kernelspec": {
   "display_name": "python_3.9",
   "language": "python",
   "name": "python3"
  },
  "language_info": {
   "codemirror_mode": {
    "name": "ipython",
    "version": 3
   },
   "file_extension": ".py",
   "mimetype": "text/x-python",
   "name": "python",
   "nbconvert_exporter": "python",
   "pygments_lexer": "ipython3",
   "version": "3.9.21"
  }
 },
 "nbformat": 4,
 "nbformat_minor": 2
}
