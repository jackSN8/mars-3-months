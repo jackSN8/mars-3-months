{
 "cells": [
  {
   "cell_type": "code",
   "execution_count": 9,
   "metadata": {},
   "outputs": [],
   "source": [
    "from astropy import units as u\n",
    "from astropy import time\n",
    "\n",
    "import numpy as np\n",
    "\n",
    "\n",
    "from poliastro import iod\n",
    "from poliastro.bodies import Earth, Mars, Sun\n",
    "from poliastro.ephem import Ephem\n",
    "from poliastro.maneuver import Maneuver\n",
    "from poliastro.twobody import Orbit\n",
    "from poliastro.util import time_range\n",
    "from poliastro.plotting import OrbitPlotter3D, StaticOrbitPlotter\n",
    "import math\n",
    "from poliastro.twobody.propagation import propagate\n",
    "from poliastro.examples import iss\n",
    "\n",
    "from poliastro.twobody.propagation import cowell\n",
    "from poliastro.util import norm\n",
    "\n",
    "# More info: https://plotly.com/python/renderers/\n",
    "import plotly.io as pio\n",
    "\n",
    "pio.renderers.default = \"plotly_mimetype+notebook_connected\"\n",
    "\n",
    "from astropy.coordinates import solar_system_ephemeris\n",
    "\n",
    "\n",
    "solar_system_ephemeris.set(\"jpl\")\n"
   ]
  },
  {
   "cell_type": "code",
   "execution_count": null,
   "metadata": {},
   "outputs": [],
   "source": [
    "accel = 2e-5\n",
    "def constant_accel_factory(accel):\n",
    "    def constant_accel(t0, u, k):\n",
    "        v = u[3:]\n",
    "        norm_v = (v[0]**2 + v[1]**2 + v[2]**2)**.5\n",
    "        return accel * v / norm_v\n",
    "\n",
    "    return constant_accel\n",
    "\n"
   ]
  },
  {
   "cell_type": "code",
   "execution_count": 10,
   "metadata": {},
   "outputs": [
    {
     "ename": "TypeError",
     "evalue": "f() missing 1 required positional argument: 'k'",
     "output_type": "error",
     "traceback": [
      "\u001b[1;31m---------------------------------------------------------------------------\u001b[0m",
      "\u001b[1;31mTypeError\u001b[0m                                 Traceback (most recent call last)",
      "Cell \u001b[1;32mIn[10], line 40\u001b[0m\n\u001b[0;32m     35\u001b[0m     du_ad \u001b[38;5;241m=\u001b[39m np\u001b[38;5;241m.\u001b[39marray([\u001b[38;5;241m0\u001b[39m, \u001b[38;5;241m0\u001b[39m, \u001b[38;5;241m0\u001b[39m, ax, ay, az])\n\u001b[0;32m     37\u001b[0m     \u001b[38;5;28;01mreturn\u001b[39;00m du_kep \u001b[38;5;241m+\u001b[39m du_ad\n\u001b[1;32m---> 40\u001b[0m rr \u001b[38;5;241m=\u001b[39m \u001b[43mpropagate\u001b[49m\u001b[43m(\u001b[49m\n\u001b[0;32m     41\u001b[0m \u001b[43m    \u001b[49m\u001b[43morbit\u001b[49m\u001b[43m,\u001b[49m\n\u001b[0;32m     42\u001b[0m \u001b[43m    \u001b[49m\u001b[43mtofs\u001b[49m\u001b[43m,\u001b[49m\n\u001b[0;32m     43\u001b[0m \u001b[43m    \u001b[49m\u001b[43mmethod\u001b[49m\u001b[38;5;241;43m=\u001b[39;49m\u001b[43mcowell\u001b[49m\u001b[43m,\u001b[49m\n\u001b[0;32m     44\u001b[0m \u001b[43m    \u001b[49m\u001b[43mevents\u001b[49m\u001b[38;5;241;43m=\u001b[39;49m\u001b[43mf\u001b[49m\n\u001b[0;32m     45\u001b[0m \u001b[43m)\u001b[49m\n",
      "File \u001b[1;32mc:\\Users\\jacki\\miniforge-pypy3\\envs\\python_3.9\\lib\\site-packages\\poliastro\\twobody\\propagation.py:476\u001b[0m, in \u001b[0;36mpropagate\u001b[1;34m(orbit, time_of_flight, method, rtol, **kwargs)\u001b[0m\n\u001b[0;32m    473\u001b[0m \u001b[38;5;28;01melse\u001b[39;00m:\n\u001b[0;32m    474\u001b[0m     \u001b[38;5;28;01mpass\u001b[39;00m\n\u001b[1;32m--> 476\u001b[0m rr, vv \u001b[38;5;241m=\u001b[39m method(\n\u001b[0;32m    477\u001b[0m     orbit\u001b[38;5;241m.\u001b[39mattractor\u001b[38;5;241m.\u001b[39mk,\n\u001b[0;32m    478\u001b[0m     orbit\u001b[38;5;241m.\u001b[39mr,\n\u001b[0;32m    479\u001b[0m     orbit\u001b[38;5;241m.\u001b[39mv,\n\u001b[0;32m    480\u001b[0m     time_of_flight\u001b[38;5;241m.\u001b[39mreshape(\u001b[38;5;241m-\u001b[39m\u001b[38;5;241m1\u001b[39m)\u001b[38;5;241m.\u001b[39mto(u\u001b[38;5;241m.\u001b[39ms),\n\u001b[0;32m    481\u001b[0m     rtol\u001b[38;5;241m=\u001b[39mrtol,\n\u001b[0;32m    482\u001b[0m     \u001b[38;5;241m*\u001b[39m\u001b[38;5;241m*\u001b[39mkwargs\n\u001b[0;32m    483\u001b[0m )\n\u001b[0;32m    485\u001b[0m \u001b[38;5;66;03m# TODO: Turn these into unit tests\u001b[39;00m\n\u001b[0;32m    486\u001b[0m \u001b[38;5;28;01massert\u001b[39;00m rr\u001b[38;5;241m.\u001b[39mndim \u001b[38;5;241m==\u001b[39m \u001b[38;5;241m2\u001b[39m\n",
      "File \u001b[1;32mc:\\Users\\jacki\\miniforge-pypy3\\envs\\python_3.9\\lib\\site-packages\\poliastro\\twobody\\propagation.py:100\u001b[0m, in \u001b[0;36mcowell\u001b[1;34m(k, r, v, tofs, rtol, events, ad, **ad_kwargs)\u001b[0m\n\u001b[0;32m     96\u001b[0m         \u001b[38;5;28;01mreturn\u001b[39;00m \u001b[38;5;241m0\u001b[39m, \u001b[38;5;241m0\u001b[39m, \u001b[38;5;241m0\u001b[39m\n\u001b[0;32m     98\u001b[0m f_with_ad \u001b[38;5;241m=\u001b[39m functools\u001b[38;5;241m.\u001b[39mpartial(func_twobody, k\u001b[38;5;241m=\u001b[39mk, ad\u001b[38;5;241m=\u001b[39mad, ad_kwargs\u001b[38;5;241m=\u001b[39mad_kwargs)\n\u001b[1;32m--> 100\u001b[0m result \u001b[38;5;241m=\u001b[39m \u001b[43msolve_ivp\u001b[49m\u001b[43m(\u001b[49m\n\u001b[0;32m    101\u001b[0m \u001b[43m    \u001b[49m\u001b[43mf_with_ad\u001b[49m\u001b[43m,\u001b[49m\n\u001b[0;32m    102\u001b[0m \u001b[43m    \u001b[49m\u001b[43m(\u001b[49m\u001b[38;5;241;43m0\u001b[39;49m\u001b[43m,\u001b[49m\u001b[43m \u001b[49m\u001b[38;5;28;43mmax\u001b[39;49m\u001b[43m(\u001b[49m\u001b[43mtofs\u001b[49m\u001b[43m)\u001b[49m\u001b[43m)\u001b[49m\u001b[43m,\u001b[49m\n\u001b[0;32m    103\u001b[0m \u001b[43m    \u001b[49m\u001b[43mu0\u001b[49m\u001b[43m,\u001b[49m\n\u001b[0;32m    104\u001b[0m \u001b[43m    \u001b[49m\u001b[43mrtol\u001b[49m\u001b[38;5;241;43m=\u001b[39;49m\u001b[43mrtol\u001b[49m\u001b[43m,\u001b[49m\n\u001b[0;32m    105\u001b[0m \u001b[43m    \u001b[49m\u001b[43matol\u001b[49m\u001b[38;5;241;43m=\u001b[39;49m\u001b[38;5;241;43m1e-12\u001b[39;49m\u001b[43m,\u001b[49m\n\u001b[0;32m    106\u001b[0m \u001b[43m    \u001b[49m\u001b[43mmethod\u001b[49m\u001b[38;5;241;43m=\u001b[39;49m\u001b[43mDOP853\u001b[49m\u001b[43m,\u001b[49m\n\u001b[0;32m    107\u001b[0m \u001b[43m    \u001b[49m\u001b[43mdense_output\u001b[49m\u001b[38;5;241;43m=\u001b[39;49m\u001b[38;5;28;43;01mTrue\u001b[39;49;00m\u001b[43m,\u001b[49m\n\u001b[0;32m    108\u001b[0m \u001b[43m    \u001b[49m\u001b[43mevents\u001b[49m\u001b[38;5;241;43m=\u001b[39;49m\u001b[43mevents\u001b[49m\u001b[43m,\u001b[49m\n\u001b[0;32m    109\u001b[0m \u001b[43m\u001b[49m\u001b[43m)\u001b[49m\n\u001b[0;32m    110\u001b[0m \u001b[38;5;28;01mif\u001b[39;00m \u001b[38;5;129;01mnot\u001b[39;00m result\u001b[38;5;241m.\u001b[39msuccess:\n\u001b[0;32m    111\u001b[0m     \u001b[38;5;28;01mraise\u001b[39;00m \u001b[38;5;167;01mRuntimeError\u001b[39;00m(\u001b[38;5;124m\"\u001b[39m\u001b[38;5;124mIntegration failed\u001b[39m\u001b[38;5;124m\"\u001b[39m)\n",
      "File \u001b[1;32mc:\\Users\\jacki\\miniforge-pypy3\\envs\\python_3.9\\lib\\site-packages\\scipy\\integrate\\_ivp\\ivp.py:567\u001b[0m, in \u001b[0;36msolve_ivp\u001b[1;34m(fun, t_span, y0, method, t_eval, dense_output, events, vectorized, args, **options)\u001b[0m\n\u001b[0;32m    560\u001b[0m \u001b[38;5;28;01mif\u001b[39;00m args \u001b[38;5;129;01mis\u001b[39;00m \u001b[38;5;129;01mnot\u001b[39;00m \u001b[38;5;28;01mNone\u001b[39;00m:\n\u001b[0;32m    561\u001b[0m     \u001b[38;5;66;03m# Wrap user functions in lambdas to hide the additional parameters.\u001b[39;00m\n\u001b[0;32m    562\u001b[0m     \u001b[38;5;66;03m# The original event function is passed as a keyword argument to the\u001b[39;00m\n\u001b[0;32m    563\u001b[0m     \u001b[38;5;66;03m# lambda to keep the original function in scope (i.e., avoid the\u001b[39;00m\n\u001b[0;32m    564\u001b[0m     \u001b[38;5;66;03m# late binding closure \"gotcha\").\u001b[39;00m\n\u001b[0;32m    565\u001b[0m     events \u001b[38;5;241m=\u001b[39m [\u001b[38;5;28;01mlambda\u001b[39;00m t, x, event\u001b[38;5;241m=\u001b[39mevent: event(t, x, \u001b[38;5;241m*\u001b[39margs)\n\u001b[0;32m    566\u001b[0m               \u001b[38;5;28;01mfor\u001b[39;00m event \u001b[38;5;129;01min\u001b[39;00m events]\n\u001b[1;32m--> 567\u001b[0m g \u001b[38;5;241m=\u001b[39m [event(t0, y0) \u001b[38;5;28;01mfor\u001b[39;00m event \u001b[38;5;129;01min\u001b[39;00m events]\n\u001b[0;32m    568\u001b[0m t_events \u001b[38;5;241m=\u001b[39m [[] \u001b[38;5;28;01mfor\u001b[39;00m _ \u001b[38;5;129;01min\u001b[39;00m \u001b[38;5;28mrange\u001b[39m(\u001b[38;5;28mlen\u001b[39m(events))]\n\u001b[0;32m    569\u001b[0m y_events \u001b[38;5;241m=\u001b[39m [[] \u001b[38;5;28;01mfor\u001b[39;00m _ \u001b[38;5;129;01min\u001b[39;00m \u001b[38;5;28mrange\u001b[39m(\u001b[38;5;28mlen\u001b[39m(events))]\n",
      "File \u001b[1;32mc:\\Users\\jacki\\miniforge-pypy3\\envs\\python_3.9\\lib\\site-packages\\scipy\\integrate\\_ivp\\ivp.py:567\u001b[0m, in \u001b[0;36m<listcomp>\u001b[1;34m(.0)\u001b[0m\n\u001b[0;32m    560\u001b[0m \u001b[38;5;28;01mif\u001b[39;00m args \u001b[38;5;129;01mis\u001b[39;00m \u001b[38;5;129;01mnot\u001b[39;00m \u001b[38;5;28;01mNone\u001b[39;00m:\n\u001b[0;32m    561\u001b[0m     \u001b[38;5;66;03m# Wrap user functions in lambdas to hide the additional parameters.\u001b[39;00m\n\u001b[0;32m    562\u001b[0m     \u001b[38;5;66;03m# The original event function is passed as a keyword argument to the\u001b[39;00m\n\u001b[0;32m    563\u001b[0m     \u001b[38;5;66;03m# lambda to keep the original function in scope (i.e., avoid the\u001b[39;00m\n\u001b[0;32m    564\u001b[0m     \u001b[38;5;66;03m# late binding closure \"gotcha\").\u001b[39;00m\n\u001b[0;32m    565\u001b[0m     events \u001b[38;5;241m=\u001b[39m [\u001b[38;5;28;01mlambda\u001b[39;00m t, x, event\u001b[38;5;241m=\u001b[39mevent: event(t, x, \u001b[38;5;241m*\u001b[39margs)\n\u001b[0;32m    566\u001b[0m               \u001b[38;5;28;01mfor\u001b[39;00m event \u001b[38;5;129;01min\u001b[39;00m events]\n\u001b[1;32m--> 567\u001b[0m g \u001b[38;5;241m=\u001b[39m [\u001b[43mevent\u001b[49m\u001b[43m(\u001b[49m\u001b[43mt0\u001b[49m\u001b[43m,\u001b[49m\u001b[43m \u001b[49m\u001b[43my0\u001b[49m\u001b[43m)\u001b[49m \u001b[38;5;28;01mfor\u001b[39;00m event \u001b[38;5;129;01min\u001b[39;00m events]\n\u001b[0;32m    568\u001b[0m t_events \u001b[38;5;241m=\u001b[39m [[] \u001b[38;5;28;01mfor\u001b[39;00m _ \u001b[38;5;129;01min\u001b[39;00m \u001b[38;5;28mrange\u001b[39m(\u001b[38;5;28mlen\u001b[39m(events))]\n\u001b[0;32m    569\u001b[0m y_events \u001b[38;5;241m=\u001b[39m [[] \u001b[38;5;28;01mfor\u001b[39;00m _ \u001b[38;5;129;01min\u001b[39;00m \u001b[38;5;28mrange\u001b[39m(\u001b[38;5;28mlen\u001b[39m(events))]\n",
      "\u001b[1;31mTypeError\u001b[0m: f() missing 1 required positional argument: 'k'"
     ]
    }
   ],
   "source": [
    "# More info: https://plotly.com/python/renderers/\n",
    "import plotly.io as pio\n",
    "pio.renderers.default = \"plotly_mimetype+notebook_connected\"\n",
    "R = Earth.R.to(u.km).value\n",
    "k = Earth.k.to(u.km ** 3 / u.s ** 2).value\n",
    "\n",
    "orbit = Orbit.circular(Earth, 250 * u.km, epoch=Time(0.0, format=\"jd\", scale=\"tdb\"))\n",
    "\n",
    "# parameters of a body\n",
    "C_D = 2.2  # dimentionless (any value would do)\n",
    "A_over_m = ((np.pi / 4.0) * (u.m ** 2) / (100 * u.kg)).to_value(\n",
    "    u.km ** 2 / u.kg\n",
    ")  # km^2/kg\n",
    "B = C_D * A_over_m\n",
    "\n",
    "# parameters of the atmosphere\n",
    "rho0 = rho0_earth.to(u.kg / u.km ** 3).value  # kg/km^3\n",
    "H0 = H0_earth.to(u.km).value\n",
    "\n",
    "tofs = TimeDelta(np.linspace(0 * u.h, 100000 * u.s, num=2000))\n",
    "\n",
    "\n",
    "def f(t0, state, k):\n",
    "    du_kep = func_twobody(t0, state, k)\n",
    "    ax, ay, az = atmospheric_drag_exponential(\n",
    "        t0,\n",
    "        state,\n",
    "        k,\n",
    "        R=R,\n",
    "        C_D=C_D,\n",
    "        A_over_m=A_over_m,\n",
    "        H0=H0,\n",
    "        rho0=rho0,\n",
    "    )\n",
    "    du_ad = np.array([0, 0, 0, ax, ay, az])\n",
    "\n",
    "    return du_kep + du_ad\n",
    "\n",
    "\n",
    "rr = propagate(\n",
    "    orbit,\n",
    "    tofs,\n",
    "    method=cowell,\n",
    "    events=f\n",
    ")"
   ]
  },
  {
   "cell_type": "code",
   "execution_count": null,
   "metadata": {},
   "outputs": [
    {
     "name": "stdout",
     "output_type": "stream",
     "text": [
      "orbital decay seen after 100.0 days\n"
     ]
    },
    {
     "data": {
      "text/plain": [
       "[<matplotlib.lines.Line2D at 0x1aabca0ca60>]"
      ]
     },
     "execution_count": 8,
     "metadata": {},
     "output_type": "execute_result"
    },
    {
     "data": {
      "image/png": "[encoded data removed]",
      "text/plain": [
       "<Figure size 640x480 with 1 Axes>"
      ]
     },
     "metadata": {},
     "output_type": "display_data"
    }
   ],
   "source": [
    "plt.ylabel(\"h(t)\")\n",
    "plt.xlabel(\"t, days\")\n",
    "plt.plot(tofs.value, rr.norm() - Earth.R)\n",
    "from poliastro.twobody.events import LithobrakeEvent\n",
    "\n",
    "orbit = Orbit.circular(Earth, 230 * u.km, epoch=Time(0.0, format=\"jd\", scale=\"tdb\"))\n",
    "tofs = TimeDelta(np.linspace(0 * u.h, 100 * u.d, num=2000))\n",
    "\n",
    "lithobrake_event = LithobrakeEvent(R)\n",
    "events = [lithobrake_event]\n",
    "\n",
    "rr = propagate(\n",
    "    orbit,\n",
    "    tofs,\n",
    "    method=cowell,\n",
    "    events=events,\n",
    ")\n",
    "\n",
    "print(\"orbital decay seen after\", lithobrake_event.last_t.to(u.d).value, \"days\")\n",
    "plt.ylabel(\"h(t)\")\n",
    "plt.xlabel(\"t, days\")\n",
    "plt.plot(tofs.value, rr.norm() - Earth.R)"
   ]
  }
 ],
 "metadata": {
  "kernelspec": {
   "display_name": "python_3.9",
   "language": "python",
   "name": "python3"
  },
  "language_info": {
   "codemirror_mode": {
    "name": "ipython",
    "version": 3
   },
   "file_extension": ".py",
   "mimetype": "text/x-python",
   "name": "python",
   "nbconvert_exporter": "python",
   "pygments_lexer": "ipython3",
   "version": "3.9.21"
  }
 },
 "nbformat": 4,
 "nbformat_minor": 2
}
