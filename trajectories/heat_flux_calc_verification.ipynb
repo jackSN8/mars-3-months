{
 "cells": [
  {
   "cell_type": "code",
   "execution_count": 1,
   "metadata": {},
   "outputs": [
    {
     "name": "stderr",
     "output_type": "stream",
     "text": [
      "c:\\Users\\jacki\\miniforge-pypy3\\envs\\python_3.9\\lib\\site-packages\\poliastro\\core\\_jit.py:29: UserWarning: Could not import numba package. All poliastro functions will work properly but the CPU intensive algorithms will be slow. Consider installing numba to boost performance.\n",
      "  warnings.warn(\n"
     ]
    }
   ],
   "source": [
    "import numpy as np\n",
    "from astropy import units as u\n",
    "from astropy import time\n",
    "from astropy import coordinates as c\n",
    "import os\n",
    "from poliastro.bodies import Earth\n",
    "from poliastro.twobody import Orbit\n",
    "from poliastro.twobody.propagation import propagate\n",
    "from poliastro.examples import iss\n",
    "import matplotlib.pyplot as plt\n",
    "from poliastro import iod\n",
    "from poliastro.bodies import Earth, Mars, Sun\n",
    "from poliastro.ephem import Ephem\n",
    "from poliastro.maneuver import Maneuver\n",
    "from poliastro.twobody import Orbit\n",
    "from poliastro.util import time_range\n",
    "from poliastro.plotting import OrbitPlotter3D, StaticOrbitPlotter\n",
    "from poliastro.earth.atmosphere import COESA76\n",
    "from poliastro.twobody.propagation import cowell\n",
    "from poliastro.plotting import OrbitPlotter3D\n",
    "from poliastro.util import norm\n",
    "import plotly.io as pio\n",
    "pio.renderers.default = \"notebook_connected\"\n",
    "from poliastro.twobody.events import LithobrakeEvent\n",
    "from astropy.coordinates import SphericalRepresentation\n",
    "import math as Math\n",
    "from poliastro.twobody import Orbit\n",
    "from poliastro.mars_atm import MartianAtmosphere\n",
    "\n",
    "from scipy.ndimage import rotate\n",
    "from scipy.spatial.transform import Rotation as R"
   ]
  },
  {
   "cell_type": "code",
   "execution_count": 2,
   "metadata": {},
   "outputs": [],
   "source": [
    "def stagnation_temperature(V_inf, T_inf, Cp=1000, dissociation_correction=True):\n",
    "    \"\"\"Calculate stagnation temperature considering real gas effects.\"\"\"\n",
    "    T0 = T_inf + (V_inf ** 2) / (2 * Cp)\n",
    "    \n",
    "    if dissociation_correction:\n",
    "        # Apply empirical correction for air dissociation at high temperatures\n",
    "        if T0 > 5000:\n",
    "            T0 = 14000 - 5000 * np.exp(-T0 / 7000)  # Rough empirical correction\n",
    "    \n",
    "    return T0\n",
    "\n",
    "def boundary_layer_edge_temperature(M, T0, gamma=1.4, real_gas=True):\n",
    "    \"\"\"Calculate temperature at the boundary layer edge considering real gas effects.\"\"\"\n",
    "    \n",
    "    if real_gas:\n",
    "        # For high Mach numbers, gamma decreases due to dissociation and ionization\n",
    "        gamma_eff = max(1.2, 1.4 - 0.1 * np.log10(M))  # Approximate trend\n",
    "    else:\n",
    "        gamma_eff = gamma\n",
    "    \n",
    "    Te = T0 / (1 + ((gamma_eff - 1) / 2) * M ** 2)\n",
    "    \n",
    "    return Te"
   ]
  },
  {
   "cell_type": "code",
   "execution_count": 3,
   "metadata": {},
   "outputs": [
    {
     "ename": "NameError",
     "evalue": "name 'square_v' is not defined",
     "output_type": "error",
     "traceback": [
      "\u001b[1;31m---------------------------------------------------------------------------\u001b[0m",
      "\u001b[1;31mNameError\u001b[0m                                 Traceback (most recent call last)",
      "Cell \u001b[1;32mIn[3], line 3\u001b[0m\n\u001b[0;32m      1\u001b[0m \u001b[38;5;66;03m#Heat flux = 0.763*(Pr)^(-0.6)*(pmu)^(0.1)(du/dx)(h0e-hw)[1+(Le^(0.52)-1)(hd/h0e)]\u001b[39;00m\n\u001b[0;32m      2\u001b[0m mach_vel \u001b[38;5;241m=\u001b[39m \u001b[38;5;241m225\u001b[39m\u001b[38;5;66;03m#m/s, emprical \u001b[39;00m\n\u001b[1;32m----> 3\u001b[0m mach_num \u001b[38;5;241m=\u001b[39m (\u001b[43msquare_v\u001b[49m\u001b[38;5;241m*\u001b[39m\u001b[38;5;241m*\u001b[39m\u001b[38;5;241m0.5\u001b[39m)\u001b[38;5;241m*\u001b[39m\u001b[38;5;241m1e3\u001b[39m\u001b[38;5;241m/\u001b[39mmach_vel\n\u001b[0;32m      5\u001b[0m \u001b[38;5;66;03m#stagnation enthalpy ~ V_flow^2/2\u001b[39;00m\n\u001b[0;32m      6\u001b[0m h0 \u001b[38;5;241m=\u001b[39m square_v\u001b[38;5;241m*\u001b[39m\u001b[38;5;241m1e6\u001b[39m\u001b[38;5;241m*\u001b[39m\u001b[38;5;241m0.5\u001b[39m\n",
      "\u001b[1;31mNameError\u001b[0m: name 'square_v' is not defined"
     ]
    }
   ],
   "source": [
    "\n",
    "\n",
    "#Heat flux = 0.763*(Pr)^(-0.6)*(pmu)^(0.1)(du/dx)(h0e-hw)[1+(Le^(0.52)-1)(hd/h0e)]\n",
    "mach_vel = 225#m/s, emprical \n",
    "mach_num = (square_v**0.5)*1e3/mach_vel\n",
    "\n",
    "#stagnation enthalpy ~ V_flow^2/2\n",
    "h0 = square_v*1e6*0.5\n",
    "#boundary layer edge temperature\n",
    "T0=stagnation_temperature((square_v**0.5)*1e3,static_temp.value)\n",
    "Te= boundary_layer_edge_temperature(mach_num,T0) \n",
    "\n",
    "#viscosity at boundary layer with empirical fit\n",
    "mue = 1.45*1e-4*(Te/10000)**0.76\n",
    "#heat flux\n",
    "#p*he\\sqrt{mu/(p*R)}\n",
    "qs = (density.value*h0*((mue)/(density*4.5))**0.5).value\n",
    "heat_fluxs_dumb_val = (1.9*1e-4)*((density.value/4.5)**0.5)*((square_v*1e6)**1.5)\n"
   ]
  }
 ],
 "metadata": {
  "kernelspec": {
   "display_name": "python_3.9",
   "language": "python",
   "name": "python3"
  },
  "language_info": {
   "codemirror_mode": {
    "name": "ipython",
    "version": 3
   },
   "file_extension": ".py",
   "mimetype": "text/x-python",
   "name": "python",
   "nbconvert_exporter": "python",
   "pygments_lexer": "ipython3",
   "version": "3.9.21"
  }
 },
 "nbformat": 4,
 "nbformat_minor": 2
}
