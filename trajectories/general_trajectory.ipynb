{
 "cells": [
  {
   "cell_type": "code",
   "execution_count": null,
   "metadata": {},
   "outputs": [],
   "source": []
  },
  {
   "cell_type": "code",
   "execution_count": 1,
   "metadata": {},
   "outputs": [
    {
     "name": "stderr",
     "output_type": "stream",
     "text": [
      "c:\\Users\\jacki\\miniforge-pypy3\\envs\\python_3.9\\lib\\site-packages\\poliastro\\core\\_jit.py:29: UserWarning: Could not import numba package. All poliastro functions will work properly but the CPU intensive algorithms will be slow. Consider installing numba to boost performance.\n",
      "  warnings.warn(\n"
     ]
    },
    {
     "data": {
      "text/plain": [
       "<ScienceState solar_system_ephemeris: 'jpl'>"
      ]
     },
     "execution_count": 1,
     "metadata": {},
     "output_type": "execute_result"
    }
   ],
   "source": [
    "from astropy import units as u\n",
    "from astropy import time\n",
    "\n",
    "import numpy as np\n",
    "\n",
    "from poliastro import iod\n",
    "from poliastro.bodies import Mars, Earth, Jupiter, Sun\n",
    "from poliastro.ephem import Ephem\n",
    "from poliastro.maneuver import Maneuver\n",
    "from poliastro.twobody import Orbit\n",
    "from poliastro.util import time_range\n",
    "from poliastro.plotting import OrbitPlotter3D, StaticOrbitPlotter\n",
    "import math\n",
    "import matplotlib.pyplot as plt\n",
    "# More info: https://plotly.com/python/renderers/\n",
    "import plotly.io as pio\n",
    "\n",
    "pio.renderers.default = \"plotly_mimetype+notebook_connected\"\n",
    "\n",
    "from astropy.coordinates import solar_system_ephemeris\n",
    "\n",
    "\n",
    "solar_system_ephemeris.set(\"jpl\")"
   ]
  },
  {
   "cell_type": "code",
   "execution_count": 2,
   "metadata": {},
   "outputs": [
    {
     "name": "stdout",
     "output_type": "stream",
     "text": [
      "679.658299416504\n"
     ]
    }
   ],
   "source": [
    "#starship specs\n",
    "isp = 380\n",
    "dry_mass = 100\n",
    "prop_mass = 1200 #tons\n",
    "lmo_fuel = 250\n",
    "\n",
    "\n",
    "landing_reserve = 500\n",
    "\n",
    "starship_dv = isp*9.81*math.log((dry_mass+prop_mass)/dry_mass)\n",
    "boiloff = 0#0 \n",
    "\n",
    "#for a skimpy 100t starship, only need 20 tons of landing fuel\n",
    "print(isp*9.81*math.log((120)/(100)))\n",
    "\n"
   ]
  },
  {
   "cell_type": "code",
   "execution_count": null,
   "metadata": {},
   "outputs": [],
   "source": [
    "#starship specs\n",
    "isp = 380\n",
    "dry_mass = 150\n",
    "prop_mass = 1200\n",
    "landing_reserve = 500\n",
    "starship_dv = isp*9.81*math.log((dry_mass+prop_mass)/dry_mass)\n",
    "boiloff = 0#0 \n",
    "\n",
    "\n",
    "#launch from body_1 to body_2\n",
    "body_1 = Mars\n",
    "body_2 = Earth\n",
    "\n",
    "\n",
    "#solve for a minimum ejection DV given a time period\n",
    "transitTime = 90*u.day\n",
    "resolution = 10*u.day\n",
    "start_date = time.Time(\"2030-01-01 00:01\", scale=\"utc\").tdb\n",
    "end_date = time.Time(\"2034-01-01 00:01\", scale=\"utc\").tdb\n",
    "\n",
    "ephem_1 = Ephem.from_body(body_1, time_range(start_date, end=end_date+transitTime))\n",
    "ephem_2 = Ephem.from_body(body_2, time_range(start_date, end=end_date+transitTime))\n",
    "\n",
    "\n",
    "delta_time = end_date-start_date\n",
    "lowest_dv = 100000\n",
    "lowest_date = 0\n",
    "lowest_orb = 0\n",
    "for i in range(int(delta_time/resolution)):\n",
    "    date_launch = start_date+i*resolution\n",
    "    date_arrival = start_date+transitTime+i*resolution\n",
    "    # Solve for departure and target orbits\n",
    "    ss_planet_1 = Orbit.from_ephem(Sun, ephem_1, date_launch)\n",
    "    ss_planet_2 = Orbit.from_ephem(Sun, ephem_2, date_arrival)\n",
    "\n",
    "    # Solve for the transfer maneuver\n",
    "    man_lambert = Maneuver.lambert(ss_planet_1, ss_planet_2)\n",
    "    ejection = man_lambert[0]\n",
    "    dv = np.linalg.norm(ejection[1].value)\n",
    "    if(dv<lowest_dv):\n",
    "        lowest_dv=dv\n",
    "        lowest_date = date_launch\n",
    "        lowest_orb,final = ss_planet_1.apply_maneuver(man_lambert, intermediate=True)\n",
    "\n",
    "\n",
    "reserve_dv = starship_dv-int(lowest_dv)-landing_reserve\n",
    "#print(f\"Starship DV is {starship_dv}m/s\")   \n",
    "print(f\"Ejection is with {int((1-boiloff)*lowest_dv)}m/s of DV (in sun reference frame, so actual number is different)\")\n",
    "#print(f\"Reserve DV (not accounting for boiloff) is {reserve_dv}m/s\")\n",
    "print(f\"departure from {body_1} on {lowest_date}\")\n",
    "print(f\"arrival at {body_2} on {lowest_date+transitTime}\")\n",
    "      \n",
    "dM = 0*u.day\n",
    "\n",
    "fig, ax = plt.subplots()\n",
    "\n",
    "ax.grid(True)\n",
    "#ax.set_title(\"2033 90 day trajectory\")\n",
    "\n",
    "# We can check new bodies positions\n",
    "plotter = StaticOrbitPlotter(ax)\n",
    "ss_leave_1 = Orbit.from_ephem(Sun, ephem_1, lowest_date)\n",
    "ss_arrival_2 = Orbit.from_ephem(Sun, ephem_2, lowest_date+transitTime)\n",
    "\n",
    "plotter.plot_body_orbit(body_1,  lowest_date+dM, label=body_1)\n",
    "\n",
    "plotter.plot_body_orbit(body_2,  lowest_date+dM+transitTime, label=body_2)\n",
    "label_str = lowest_date.datetime.strftime(\"%Y-%m-%d\")\n",
    "\n",
    "\n",
    "#plotter.plot(ss_leave_1, label=label_str)\n",
    "\n",
    "plotter.plot(lowest_orb, color=\"slategrey\", label=\"Starship\")"
   ]
  },
  {
   "cell_type": "code",
   "execution_count": 4,
   "metadata": {},
   "outputs": [],
   "source": [
    "#calculate total boiloff during trip\n",
    "starship_albedo = 0.1\n",
    "#approxing solar irradiance with tanh between body 1 and body 2\n",
    "def sig_rad(dT):\n",
    "    return (math.exp(dT)-math.exp(-dT))/(math.exp(dT)+math.exp(-dT))\n",
    "\n"
   ]
  },
  {
   "cell_type": "code",
   "execution_count": null,
   "metadata": {},
   "outputs": [
    {
     "name": "stdout",
     "output_type": "stream",
     "text": [
      "9300 steps\n",
      "Departure at step9\n",
      "Departed SOI on 2033-04-25 02:11:45.184\n"
     ]
    }
   ],
   "source": [
    "#Find SOI change on departure\n",
    "#for the optimized trajectory, re get the epherimis\n",
    "date_launch = lowest_date\n",
    "date_arrival = lowest_date+transitTime\n",
    "#ss_earth = Orbit.from_ephem(Sun, earth, date_launch)\n",
    "\n",
    "#arrival body is body 2\n",
    "ss_body_1 = Orbit.from_ephem(Sun, ephem_1, date_launch)\n",
    "\n",
    "\n",
    "#calculate SOI crossing point\n",
    "ss_transfer = lowest_orb\n",
    "ss_final = lowest_orb\n",
    "time_sliver = 0.01*u.day\n",
    "steps = int(((transitTime+3*u.day)/time_sliver).value)\n",
    "print(f\"{steps} steps\")\n",
    "soi_change_point = lowest_date+transitTime\n",
    "for i in range(steps):\n",
    "    ss_final = ss_transfer.propagate(i*time_sliver)\n",
    "    arrival_distance = np.linalg.norm(ss_final.r-ss_body_1.r)\n",
    "    #print(earth_distance)\n",
    "    grav_difference = Sun.mass/(np.linalg.norm(ss_final.r)**2)-body_1.mass/((arrival_distance)**2)\n",
    "    #print(grav_difference)\n",
    "    if(grav_difference>0):\n",
    "        print(f\"Departure at step{i}\")\n",
    "        soi_change_point = date_launch+i*time_sliver\n",
    "        break\n",
    "\n",
    "\n",
    "print(f\"Departed SOI on {soi_change_point}\")\n",
    "\n"
   ]
  },
  {
   "cell_type": "code",
   "execution_count": null,
   "metadata": {},
   "outputs": [
    {
     "name": "stdout",
     "output_type": "stream",
     "text": [
      "Soi change at 270637.145769949 km (potentially seems low tbf)\n",
      "C3 is 32.06888832949639 km2 / s2\n",
      "Starship DV is 8190.8137793939595m/s\n",
      "Ejection velocity is 12.41718834445867 km / s\n",
      "Ejection DV is 4.603172793787435 km / s\n",
      "Starship has 3087.6409856065247 m / s of DV after the burn excluding landing reserve (500 m/s)\n"
     ]
    },
    {
     "name": "stderr",
     "output_type": "stream",
     "text": [
      "c:\\Users\\jacki\\miniforge-pypy3\\envs\\python_3.9\\lib\\site-packages\\erfa\\core.py:133: ErfaWarning:\n",
      "\n",
      "ERFA function \"taiutc\" yielded 1 of \"dubious year (Note 4)\"\n",
      "\n",
      "c:\\Users\\jacki\\miniforge-pypy3\\envs\\python_3.9\\lib\\site-packages\\erfa\\core.py:133: ErfaWarning:\n",
      "\n",
      "ERFA function \"d2dtf\" yielded 1 of \"dubious year (Note 5)\"\n",
      "\n"
     ]
    },
    {
     "data": {
      "text/plain": [
       "[<matplotlib.lines.Line2D at 0x1b0e795c070>,\n",
       " <matplotlib.lines.Line2D at 0x1b0e79641f0>]"
      ]
     },
     "execution_count": 6,
     "metadata": {},
     "output_type": "execute_result"
    },
    {
     "data": {
      "image/png": "[encoded data removed]",
      "text/plain": [
       "<Figure size 1400x600 with 1 Axes>"
      ]
     },
     "metadata": {},
     "output_type": "display_data"
    }
   ],
   "source": [
    "ss_final = lowest_orb.propagate(soi_change_point-date_launch) \n",
    "\n",
    "\n",
    "r_body_1, v_body_1 = ss_body_1.r,ss_body_1.v\n",
    "r_sc_arriv = ss_final.r-r_body_1\n",
    "v_sc_arriv = ss_final.v-v_body_1\n",
    "c3_a = np.linalg.norm(v_sc_arriv)**2\n",
    "print(f\"Soi change at {np.linalg.norm(r_sc_arriv)} (potentially seems low tbf)\")\n",
    "print(f\"C3 is {c3_a}\")\n",
    "\n",
    "\n",
    "#C3 only orbit calc\n",
    "r_p = 150*u.km#parking orbit\n",
    "\n",
    "parking_orbit = Orbit.circular(body_1,alt = r_p,epoch = date_launch-1*u.day)\n",
    "\n",
    "\n",
    "a_exit = -(body_1.k / c3_a).to(u.km)\n",
    "ecc_exit = 1 - (r_p+body_1.R) / a_exit\n",
    "\n",
    "departure_orbit = Orbit.from_classical(\n",
    "    body_1,\n",
    "    a_exit,\n",
    "    ecc_exit,\n",
    "    0 * u.deg,\n",
    "    0 * u.deg,\n",
    "    0 * u.deg,\n",
    "    0 * u.deg,  # We don't mind\n",
    "    time.Time(date_launch, scale=\"utc\"),\n",
    ")\n",
    "print(f\"Starship DV is {starship_dv}m/s\")   \n",
    "print(f\"Ejection velocity is {np.linalg.norm(departure_orbit.v)}\")\n",
    "print(f\"Ejection DV is {np.linalg.norm(departure_orbit.v)-np.linalg.norm(parking_orbit.v)}\")\n",
    "ejection_dv = (np.linalg.norm(departure_orbit.v)-np.linalg.norm(parking_orbit.v)).value\n",
    "reserve_dv = starship_dv-(ejection_dv*1000)-landing_reserve\n",
    "print(f\"Starship has {reserve_dv} m / s of DV after the burn excluding landing reserve (500 m/s)\")\n",
    "\n",
    "earth_plotter = StaticOrbitPlotter()\n",
    "\n",
    "earth_plotter.plot(parking_orbit, label=\"Parking orbit\", color=\"b\")\n",
    "earth_plotter.plot(departure_orbit, label=\"Ejection orbit\", color=\"r\")\n"
   ]
  },
  {
   "cell_type": "code",
   "execution_count": null,
   "metadata": {},
   "outputs": [
    {
     "name": "stdout",
     "output_type": "stream",
     "text": [
      "9300 steps\n",
      "arrival at step8995\n",
      "Normal arrival would be 2033-07-24 00:02:09.184\n",
      "Actual arrival at 2033-07-23 22:50:09.184\n"
     ]
    }
   ],
   "source": [
    "#for the optimized trajectory, re get the epherimis\n",
    "date_launch = lowest_date\n",
    "date_arrival = lowest_date+transitTime\n",
    "#ss_earth = Orbit.from_ephem(Sun, earth, date_launch)\n",
    "\n",
    "#arrival body is body 2\n",
    "ss_body_2 = Orbit.from_ephem(Sun, ephem_2, date_arrival)\n",
    "\n",
    "\n",
    "#calculate SOI crossing point\n",
    "ss_transfer = lowest_orb\n",
    "ss_final = lowest_orb\n",
    "time_sliver = 0.01*u.day\n",
    "steps = int(((transitTime+3*u.day)/time_sliver).value)\n",
    "print(f\"{steps} steps\")\n",
    "soi_change_point = lowest_date+transitTime\n",
    "for i in range(steps):\n",
    "    ss_final = ss_transfer.propagate(i*time_sliver)\n",
    "    arrival_distance = np.linalg.norm(ss_final.r-ss_body_2.r)\n",
    "    #print(earth_distance)\n",
    "    grav_difference = Sun.mass/(np.linalg.norm(ss_final.r)**2)-body_2.mass/((arrival_distance)**2)\n",
    "    #print(grav_difference)\n",
    "    if(grav_difference<0):\n",
    "        print(f\"arrival at step{i}\")\n",
    "        soi_change_point = date_launch+i*time_sliver\n",
    "        break\n",
    "\n",
    "\n",
    "print(f\"Normal arrival would be {date_arrival}\")\n",
    "print(f\"Actual arrival at {soi_change_point}\")\n",
    "\n"
   ]
  },
  {
   "cell_type": "code",
   "execution_count": null,
   "metadata": {},
   "outputs": [
    {
     "name": "stdout",
     "output_type": "stream",
     "text": [
      "Soi change at 115008.9401955018 km (potentially seems low tbf)\n",
      "C3 is 132.44233363710663 km2 / s2\n",
      "New periapsis is 104.00508141709543 kmkm\n",
      "Arrival speed (at periapsis) would be 12.533288456909105 km / s\n",
      "After deacceleration burn it is 9.580676102450662 km / s\n",
      "Need to lose 4.558582490912857 km / s in initial aerocapture pass\n"
     ]
    },
    {
     "name": "stderr",
     "output_type": "stream",
     "text": [
      "c:\\Users\\jacki\\miniforge-pypy3\\envs\\python_3.9\\lib\\site-packages\\erfa\\core.py:133: ErfaWarning:\n",
      "\n",
      "ERFA function \"taiutc\" yielded 1 of \"dubious year (Note 4)\"\n",
      "\n",
      "c:\\Users\\jacki\\miniforge-pypy3\\envs\\python_3.9\\lib\\site-packages\\erfa\\core.py:133: ErfaWarning:\n",
      "\n",
      "ERFA function \"utctai\" yielded 1 of \"dubious year (Note 3)\"\n",
      "\n",
      "c:\\Users\\jacki\\miniforge-pypy3\\envs\\python_3.9\\lib\\site-packages\\erfa\\core.py:133: ErfaWarning:\n",
      "\n",
      "ERFA function \"d2dtf\" yielded 1 of \"dubious year (Note 5)\"\n",
      "\n",
      "c:\\Users\\jacki\\miniforge-pypy3\\envs\\python_3.9\\lib\\site-packages\\erfa\\core.py:133: ErfaWarning:\n",
      "\n",
      "ERFA function \"utctai\" yielded 1 of \"dubious year (Note 3)\"\n",
      "\n",
      "c:\\Users\\jacki\\miniforge-pypy3\\envs\\python_3.9\\lib\\site-packages\\erfa\\core.py:133: ErfaWarning:\n",
      "\n",
      "ERFA function \"taiutc\" yielded 1 of \"dubious year (Note 4)\"\n",
      "\n"
     ]
    },
    {
     "data": {
      "image/png": "[encoded data removed]",
      "text/plain": [
       "<Figure size 1440x480 with 1 Axes>"
      ]
     },
     "metadata": {},
     "output_type": "display_data"
    }
   ],
   "source": [
    "#ITS BROKEN AND I UNDERSTAND WHY\n",
    "\n",
    "\n",
    "\n",
    "retro_time = 400*u.second #how long before entry interface to do the retro burn\n",
    "\n",
    "ss_final = lowest_orb.propagate(soi_change_point-date_launch) \n",
    "\n",
    "\n",
    "r_body_2, v_body_2 = ss_body_2.r,ss_body_2.v\n",
    "r_sc_arriv = ss_final.r-r_body_2\n",
    "v_sc_arriv = ss_final.v-v_body_2\n",
    "c3_a = np.linalg.norm(v_sc_arriv)**2\n",
    "print(f\"Soi change at {np.linalg.norm(r_sc_arriv)} (potentially seems low tbf)\")\n",
    "print(f\"C3 is {c3_a}\")\n",
    "\n",
    "\n",
    "#C3 only orbit calc\n",
    "r_p = 80*u.km#arrival periapsis\n",
    "a_exit = -(body_2.k / c3_a).to(u.km)\n",
    "ecc_exit = 1 - (r_p+body_2.R) / a_exit\n",
    "\n",
    "arrival_orbit = Orbit.from_classical(\n",
    "    body_2,\n",
    "    a_exit,\n",
    "    ecc_exit,\n",
    "    0 * u.deg,\n",
    "    0 * u.deg,\n",
    "    0 * u.deg,\n",
    "    0 * u.deg,  # We don't mind\n",
    "    time.Time(date_arrival, scale=\"utc\"),\n",
    ")\n",
    "\n",
    "\n",
    "pre_burn_orbit = arrival_orbit.propagate(-retro_time)\n",
    "#perform the retro burn\n",
    "prograde_vector = (pre_burn_orbit.v/(np.linalg.norm(pre_burn_orbit.v))).value\n",
    "#offset by a little as we dont want periapsis going into the atmosphere\n",
    "rad_vector = (pre_burn_orbit.r/(np.linalg.norm(pre_burn_orbit.r))).value\n",
    "rad_offset_weight = 0.13\n",
    "retro_vector = -(prograde_vector-rad_offset_weight*rad_vector)\n",
    "retro_vector = retro_vector/np.linalg.norm(retro_vector)\n",
    "\n",
    "# print(prograde_vector)\n",
    "\n",
    "\n",
    "##no deaccleration burn for arriving at Earth for now\n",
    "#if(body_2 == Mars):\n",
    "burn_dv = 0.001*reserve_dv*(retro_vector)\n",
    "#print(burn_dv)\n",
    "# else:\n",
    "#     burn_dv = 0*prograde_vector\n",
    "\n",
    "retro_burn = Maneuver((0*u.s,burn_dv*u.km/u.s))\n",
    "#retro_burn = Maneuver((0*u.s,[0,1,0]*u.km/u.s))\n",
    "post_burn_orbit = pre_burn_orbit.apply_maneuver(retro_burn)\n",
    "\n",
    "print(f\"New periapsis is {post_burn_orbit.r_p-Mars.R}km\")\n",
    "\n",
    "ax = plt.gca()       # or plotter.ax if you stored it directly\n",
    "ax.set_ylim([-1.5e4, 1.5e4]) \n",
    "\n",
    "earth_plotter = StaticOrbitPlotter(ax)\n",
    "\n",
    "\n",
    "earth_plotter.plot(pre_burn_orbit, label=\"Arrival\", color=\"k\")\n",
    "earth_plotter.plot(post_burn_orbit, label=\"Arrival\", color=\"b\")\n",
    "#earth_plotter.\n",
    "\n",
    "# print(post_burn_orbit.v)\n",
    "# print(post_burn_orbit.r)\n",
    "\n",
    "post_burn_orbit = post_burn_orbit.propagate(-post_burn_orbit.t_p)\n",
    "arrival_circular_orbit = Orbit.circular(body_2,alt = 200*u.km)\n",
    "\n",
    "print(f\"Arrival speed (at periapsis) would be {np.linalg.norm(arrival_orbit.v)}\")\n",
    "print(f\"After deacceleration burn it is {np.linalg.norm(post_burn_orbit.v)}\")\n",
    "print(f\"Need to lose {np.linalg.norm(post_burn_orbit.v)-body_2.escape_velocity()} in initial aerocapture pass\")\n",
    "\n",
    "####code below tries to calculate real orbit, but patched conics problems force a c3 only calculation orbit tbf\n",
    "\n",
    "# #grav_difference = Sun.mass/(np.linalg.norm(ss_final.r)**2)-Earth.mass/(np.linalg.norm(r_sc_arriv)**2)\n",
    "# print(grav_difference)\n",
    "\n",
    "# arrival_orbit = Orbit.from_vectors(Earth,r_sc_arriv,v_sc_arriv,epoch=date_arrival-offset_time)\n",
    "# #arrival_orbit = arrival_orbit.propagate(0.3*u.day)\n",
    "# print(arrival_orbit)\n",
    "# print(f\"This orbit gets to within {arrival_orbit.r_p-Earth.R} of the surface of earth\")\n",
    "# print(f\"Earth position at {lowest_date}\")\n",
    "\n",
    "# earth_plotter = StaticOrbitPlotter()\n",
    "\n",
    "# earth_plotter.plot(arrival_orbit, label=\"earth Arrival\", color=\"k\")\n",
    "\n"
   ]
  },
  {
   "cell_type": "code",
   "execution_count": null,
   "metadata": {},
   "outputs": [
    {
     "ename": "NameError",
     "evalue": "name 'earth' is not defined",
     "output_type": "error",
     "traceback": [
      "\u001b[1;31m---------------------------------------------------------------------------\u001b[0m",
      "\u001b[1;31mNameError\u001b[0m                                 Traceback (most recent call last)",
      "Cell \u001b[1;32mIn[9], line 4\u001b[0m\n\u001b[0;32m      2\u001b[0m date_launch \u001b[38;5;241m=\u001b[39m lowest_date\n\u001b[0;32m      3\u001b[0m date_arrival \u001b[38;5;241m=\u001b[39m lowest_date\u001b[38;5;241m+\u001b[39mtransitTime\n\u001b[1;32m----> 4\u001b[0m ss_earth \u001b[38;5;241m=\u001b[39m Orbit\u001b[38;5;241m.\u001b[39mfrom_ephem(Sun, \u001b[43mearth\u001b[49m, date_launch)\n\u001b[0;32m      5\u001b[0m ss_mars \u001b[38;5;241m=\u001b[39m Orbit\u001b[38;5;241m.\u001b[39mfrom_ephem(Sun, mars, date_arrival)\n\u001b[0;32m     10\u001b[0m \u001b[38;5;66;03m#ejection from Earth\u001b[39;00m\n\u001b[0;32m     11\u001b[0m \u001b[38;5;66;03m#calculate departure orbit\u001b[39;00m\n",
      "\u001b[1;31mNameError\u001b[0m: name 'earth' is not defined"
     ]
    }
   ],
   "source": [
    "#for the optimized trajectory, re get the epherimis\n",
    "date_launch = lowest_date\n",
    "date_arrival = lowest_date+transitTime\n",
    "ss_earth = Orbit.from_ephem(Sun, earth, date_launch)\n",
    "ss_mars = Orbit.from_ephem(Sun, mars, date_arrival)\n",
    "\n",
    "\n",
    "\n",
    "\n",
    "#ejection from Earth\n",
    "#calculate departure orbit\n",
    "prop_time = 0.012*u.day\n",
    "\n",
    "ss_leave = lowest_orb.propagate(prop_time)\n",
    "r_earth,v_earth=ss_earth.r,ss_earth.v\n",
    "r_traj_leave = ss_leave.r-r_earth\n",
    "v_traj_leave = ss_leave.v-v_earth\n",
    "\n",
    "\n",
    "ejection_orbit = Orbit.from_vectors(Earth,r_traj_leave,v_traj_leave,epoch = date_launch)\n",
    "#ejection_orbit.inc = 0*u.rad\n",
    "#propogate ejection_orbit to periapsis\n",
    "\n",
    "\n",
    "\n",
    "parking_orbit = Orbit.circular(Earth,inc=0*u.rad, alt=300 << u.km,epoch = date_launch)\n",
    "\n",
    "\n",
    "\n",
    "print(ejection_orbit.energy)# = 0*u.rad\n",
    "print(parking_orbit.energy)\n",
    "\n",
    "#calculate ejection DV\n",
    "#print(parking_orbit.v)\n",
    "dE = ejection_orbit.energy-parking_orbit.energy\n",
    "dV=np.sqrt(dE)\n",
    "print(f\"Ejection DV is {dV}\")\n",
    "\n",
    "\n",
    "print(parking_orbit)\n",
    "print(ejection_orbit)\n",
    "earth_ejection_plotter = StaticOrbitPlotter()\n",
    "\n",
    "ejection_orbit.inc = 0*u.rad\n",
    "earth_ejection_plotter.plot(parking_orbit, label=\"Parking Orbit\", color=\"b\")\n",
    "earth_ejection_plotter.plot(ejection_orbit, label=\"Ejection Orbit\", color=\"k\")"
   ]
  }
 ],
 "metadata": {
  "kernelspec": {
   "display_name": "python_3.9",
   "language": "python",
   "name": "python3"
  },
  "language_info": {
   "codemirror_mode": {
    "name": "ipython",
    "version": 3
   },
   "file_extension": ".py",
   "mimetype": "text/x-python",
   "name": "python",
   "nbconvert_exporter": "python",
   "pygments_lexer": "ipython3",
   "version": "3.9.21"
  }
 },
 "nbformat": 4,
 "nbformat_minor": 2
}
